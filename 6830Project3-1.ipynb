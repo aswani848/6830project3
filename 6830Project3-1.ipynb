{
 "cells": [
  {
   "cell_type": "code",
   "execution_count": 85,
   "id": "393b6612",
   "metadata": {},
   "outputs": [],
   "source": [
    "import pandas as pd # library for data analysis\n",
    "from matplotlib import pyplot as plt\n",
    "import requests # library to handle requests\n",
    "from bs4 import BeautifulSoup # library to parse HTML documents\n",
    "import seaborn as sns\n",
    "import numpy as np\n",
    "from scipy import stats"
   ]
  },
  {
   "cell_type": "code",
   "execution_count": 2,
   "id": "d3d1424b",
   "metadata": {},
   "outputs": [],
   "source": [
    "#function to get wikipedia table into dataframe\n",
    "def getdf(url,className):\n",
    "    wikiurl=url\n",
    "    table_class=\"wikitable sortable jquery-tablesorter\"\n",
    "    response=requests.get(wikiurl)\n",
    "    #print(response.status_code)\n",
    "    soup = BeautifulSoup(response.text, 'html.parser')\n",
    "    indiatable=soup.find('table',{'class':className})\n",
    "    df=pd.read_html(str(indiatable))\n",
    "    # convert list to dataframe\n",
    "    df=pd.DataFrame(df[0])\n",
    "    return df\n",
    "\n",
    "    "
   ]
  },
  {
   "cell_type": "code",
   "execution_count": 3,
   "id": "83a19e80",
   "metadata": {},
   "outputs": [],
   "source": [
    "df_retail=getdf('https://en.wikipedia.org/wiki/List_of_largest_retail_companies','wikitable')"
   ]
  },
  {
   "cell_type": "code",
   "execution_count": 4,
   "id": "84205ef4",
   "metadata": {},
   "outputs": [
    {
     "data": {
      "text/html": [
       "<div>\n",
       "<style scoped>\n",
       "    .dataframe tbody tr th:only-of-type {\n",
       "        vertical-align: middle;\n",
       "    }\n",
       "\n",
       "    .dataframe tbody tr th {\n",
       "        vertical-align: top;\n",
       "    }\n",
       "\n",
       "    .dataframe thead th {\n",
       "        text-align: right;\n",
       "    }\n",
       "</style>\n",
       "<table border=\"1\" class=\"dataframe\">\n",
       "  <thead>\n",
       "    <tr style=\"text-align: right;\">\n",
       "      <th></th>\n",
       "      <th>Rank</th>\n",
       "      <th>Name</th>\n",
       "      <th>Dominant operational format</th>\n",
       "      <th>Retail revenue (US$ millions)</th>\n",
       "      <th>Net profit margin</th>\n",
       "      <th>Headquarters</th>\n",
       "      <th>Unnamed: 6</th>\n",
       "      <th>Unnamed: 7</th>\n",
       "      <th>Unnamed: 8</th>\n",
       "      <th>Unnamed: 9</th>\n",
       "      <th>Unnamed: 10</th>\n",
       "      <th>Unnamed: 11</th>\n",
       "    </tr>\n",
       "  </thead>\n",
       "  <tbody>\n",
       "    <tr>\n",
       "      <th>0</th>\n",
       "      <td>1</td>\n",
       "      <td>Walmart</td>\n",
       "      <td>Hypermarket/Supercenter/Superstore</td>\n",
       "      <td>559151</td>\n",
       "      <td>2.5%</td>\n",
       "      <td>United States, Bentonville</td>\n",
       "      <td>NaN</td>\n",
       "      <td>NaN</td>\n",
       "      <td>NaN</td>\n",
       "      <td>NaN</td>\n",
       "      <td>NaN</td>\n",
       "      <td>NaN</td>\n",
       "    </tr>\n",
       "    <tr>\n",
       "      <th>1</th>\n",
       "      <td>2</td>\n",
       "      <td>Amazon</td>\n",
       "      <td>Non-Store,E-commerce</td>\n",
       "      <td>213573</td>\n",
       "      <td>5.5%</td>\n",
       "      <td>United States, Seattle</td>\n",
       "      <td>NaN</td>\n",
       "      <td>NaN</td>\n",
       "      <td>NaN</td>\n",
       "      <td>NaN</td>\n",
       "      <td>NaN</td>\n",
       "      <td>NaN</td>\n",
       "    </tr>\n",
       "    <tr>\n",
       "      <th>2</th>\n",
       "      <td>3</td>\n",
       "      <td>Costco</td>\n",
       "      <td>Cash &amp; Carry/Warehouse Club</td>\n",
       "      <td>166761</td>\n",
       "      <td>2.4%</td>\n",
       "      <td>United States, Issaquah</td>\n",
       "      <td>NaN</td>\n",
       "      <td>NaN</td>\n",
       "      <td>NaN</td>\n",
       "      <td>NaN</td>\n",
       "      <td>NaN</td>\n",
       "      <td>NaN</td>\n",
       "    </tr>\n",
       "    <tr>\n",
       "      <th>3</th>\n",
       "      <td>4</td>\n",
       "      <td>Schwarz Gruppe</td>\n",
       "      <td>Discount Store</td>\n",
       "      <td>144254</td>\n",
       "      <td>...</td>\n",
       "      <td>Germany, Neckarsulm</td>\n",
       "      <td>NaN</td>\n",
       "      <td>NaN</td>\n",
       "      <td>NaN</td>\n",
       "      <td>NaN</td>\n",
       "      <td>NaN</td>\n",
       "      <td>NaN</td>\n",
       "    </tr>\n",
       "    <tr>\n",
       "      <th>4</th>\n",
       "      <td>5</td>\n",
       "      <td>The Home Depot</td>\n",
       "      <td>Home Improvement</td>\n",
       "      <td>132110</td>\n",
       "      <td>9.7%</td>\n",
       "      <td>United States, Atlanta</td>\n",
       "      <td>NaN</td>\n",
       "      <td>NaN</td>\n",
       "      <td>NaN</td>\n",
       "      <td>NaN</td>\n",
       "      <td>NaN</td>\n",
       "      <td>NaN</td>\n",
       "    </tr>\n",
       "    <tr>\n",
       "      <th>...</th>\n",
       "      <td>...</td>\n",
       "      <td>...</td>\n",
       "      <td>...</td>\n",
       "      <td>...</td>\n",
       "      <td>...</td>\n",
       "      <td>...</td>\n",
       "      <td>...</td>\n",
       "      <td>...</td>\n",
       "      <td>...</td>\n",
       "      <td>...</td>\n",
       "      <td>...</td>\n",
       "      <td>...</td>\n",
       "    </tr>\n",
       "    <tr>\n",
       "      <th>96</th>\n",
       "      <td>97</td>\n",
       "      <td>El Corte Inglés</td>\n",
       "      <td>Department Store</td>\n",
       "      <td>11098</td>\n",
       "      <td>-28.3%</td>\n",
       "      <td>Spain, Madrid</td>\n",
       "      <td>NaN</td>\n",
       "      <td>NaN</td>\n",
       "      <td>NaN</td>\n",
       "      <td>NaN</td>\n",
       "      <td>NaN</td>\n",
       "      <td>NaN</td>\n",
       "    </tr>\n",
       "    <tr>\n",
       "      <th>97</th>\n",
       "      <td>98</td>\n",
       "      <td>Coupang</td>\n",
       "      <td>Non-store</td>\n",
       "      <td>11045</td>\n",
       "      <td>-4.0%</td>\n",
       "      <td>South Korea, Seoul</td>\n",
       "      <td>NaN</td>\n",
       "      <td>NaN</td>\n",
       "      <td>NaN</td>\n",
       "      <td>NaN</td>\n",
       "      <td>NaN</td>\n",
       "      <td>NaN</td>\n",
       "    </tr>\n",
       "    <tr>\n",
       "      <th>98</th>\n",
       "      <td>99</td>\n",
       "      <td>Hy-Vee</td>\n",
       "      <td>Supermarket</td>\n",
       "      <td>11000</td>\n",
       "      <td>...</td>\n",
       "      <td>United States, West Des Moines</td>\n",
       "      <td>NaN</td>\n",
       "      <td>NaN</td>\n",
       "      <td>NaN</td>\n",
       "      <td>NaN</td>\n",
       "      <td>NaN</td>\n",
       "      <td>NaN</td>\n",
       "    </tr>\n",
       "    <tr>\n",
       "      <th>99</th>\n",
       "      <td>100</td>\n",
       "      <td>Shoprite Holdings</td>\n",
       "      <td>Supermarket</td>\n",
       "      <td>10892</td>\n",
       "      <td>2.9%</td>\n",
       "      <td>South Africa, Cape Town</td>\n",
       "      <td>NaN</td>\n",
       "      <td>NaN</td>\n",
       "      <td>NaN</td>\n",
       "      <td>NaN</td>\n",
       "      <td>NaN</td>\n",
       "      <td>NaN</td>\n",
       "    </tr>\n",
       "    <tr>\n",
       "      <th>100</th>\n",
       "      <td>101</td>\n",
       "      <td>Adyar Ananda Bhavan</td>\n",
       "      <td>Restaurants and Foods</td>\n",
       "      <td>2000</td>\n",
       "      <td>NaN</td>\n",
       "      <td>India, Chennai</td>\n",
       "      <td>NaN</td>\n",
       "      <td>NaN</td>\n",
       "      <td>NaN</td>\n",
       "      <td>NaN</td>\n",
       "      <td>NaN</td>\n",
       "      <td>NaN</td>\n",
       "    </tr>\n",
       "  </tbody>\n",
       "</table>\n",
       "<p>101 rows × 12 columns</p>\n",
       "</div>"
      ],
      "text/plain": [
       "     Rank                 Name         Dominant operational format  \\\n",
       "0       1              Walmart  Hypermarket/Supercenter/Superstore   \n",
       "1       2               Amazon                Non-Store,E-commerce   \n",
       "2       3               Costco         Cash & Carry/Warehouse Club   \n",
       "3       4       Schwarz Gruppe                      Discount Store   \n",
       "4       5       The Home Depot                    Home Improvement   \n",
       "..    ...                  ...                                 ...   \n",
       "96     97      El Corte Inglés                    Department Store   \n",
       "97     98              Coupang                           Non-store   \n",
       "98     99               Hy-Vee                         Supermarket   \n",
       "99    100    Shoprite Holdings                         Supermarket   \n",
       "100   101  Adyar Ananda Bhavan               Restaurants and Foods   \n",
       "\n",
       "     Retail revenue (US$ millions) Net profit margin  \\\n",
       "0                           559151              2.5%   \n",
       "1                           213573              5.5%   \n",
       "2                           166761              2.4%   \n",
       "3                           144254               ...   \n",
       "4                           132110              9.7%   \n",
       "..                             ...               ...   \n",
       "96                           11098            -28.3%   \n",
       "97                           11045             -4.0%   \n",
       "98                           11000               ...   \n",
       "99                           10892              2.9%   \n",
       "100                           2000               NaN   \n",
       "\n",
       "                       Headquarters  Unnamed: 6  Unnamed: 7  Unnamed: 8  \\\n",
       "0        United States, Bentonville         NaN         NaN         NaN   \n",
       "1            United States, Seattle         NaN         NaN         NaN   \n",
       "2           United States, Issaquah         NaN         NaN         NaN   \n",
       "3               Germany, Neckarsulm         NaN         NaN         NaN   \n",
       "4            United States, Atlanta         NaN         NaN         NaN   \n",
       "..                              ...         ...         ...         ...   \n",
       "96                    Spain, Madrid         NaN         NaN         NaN   \n",
       "97               South Korea, Seoul         NaN         NaN         NaN   \n",
       "98   United States, West Des Moines         NaN         NaN         NaN   \n",
       "99          South Africa, Cape Town         NaN         NaN         NaN   \n",
       "100                  India, Chennai         NaN         NaN         NaN   \n",
       "\n",
       "     Unnamed: 9  Unnamed: 10  Unnamed: 11  \n",
       "0           NaN          NaN          NaN  \n",
       "1           NaN          NaN          NaN  \n",
       "2           NaN          NaN          NaN  \n",
       "3           NaN          NaN          NaN  \n",
       "4           NaN          NaN          NaN  \n",
       "..          ...          ...          ...  \n",
       "96          NaN          NaN          NaN  \n",
       "97          NaN          NaN          NaN  \n",
       "98          NaN          NaN          NaN  \n",
       "99          NaN          NaN          NaN  \n",
       "100         NaN          NaN          NaN  \n",
       "\n",
       "[101 rows x 12 columns]"
      ]
     },
     "execution_count": 4,
     "metadata": {},
     "output_type": "execute_result"
    }
   ],
   "source": [
    "df_retail"
   ]
  },
  {
   "cell_type": "code",
   "execution_count": 5,
   "id": "a83bd66f",
   "metadata": {},
   "outputs": [
    {
     "data": {
      "text/plain": [
       "Index(['Rank', 'Name', 'Dominant operational format',\n",
       "       'Retail revenue (US$ millions)', 'Net profit margin', 'Headquarters',\n",
       "       'Unnamed: 6', 'Unnamed: 7', 'Unnamed: 8', 'Unnamed: 9', 'Unnamed: 10',\n",
       "       'Unnamed: 11'],\n",
       "      dtype='object')"
      ]
     },
     "execution_count": 5,
     "metadata": {},
     "output_type": "execute_result"
    }
   ],
   "source": [
    "df_retail.columns"
   ]
  },
  {
   "cell_type": "code",
   "execution_count": 6,
   "id": "680da87e",
   "metadata": {},
   "outputs": [],
   "source": [
    "df_retail=df_retail.drop(['Unnamed: 6', 'Unnamed: 7', 'Unnamed: 8', 'Unnamed: 9', 'Unnamed: 10',\n",
    "       'Unnamed: 11'],axis = 1)"
   ]
  },
  {
   "cell_type": "code",
   "execution_count": 7,
   "id": "034e24cb",
   "metadata": {},
   "outputs": [
    {
     "data": {
      "text/html": [
       "<div>\n",
       "<style scoped>\n",
       "    .dataframe tbody tr th:only-of-type {\n",
       "        vertical-align: middle;\n",
       "    }\n",
       "\n",
       "    .dataframe tbody tr th {\n",
       "        vertical-align: top;\n",
       "    }\n",
       "\n",
       "    .dataframe thead th {\n",
       "        text-align: right;\n",
       "    }\n",
       "</style>\n",
       "<table border=\"1\" class=\"dataframe\">\n",
       "  <thead>\n",
       "    <tr style=\"text-align: right;\">\n",
       "      <th></th>\n",
       "      <th>Rank</th>\n",
       "      <th>Name</th>\n",
       "      <th>Dominant operational format</th>\n",
       "      <th>Retail revenue (US$ millions)</th>\n",
       "      <th>Net profit margin</th>\n",
       "      <th>Headquarters</th>\n",
       "    </tr>\n",
       "  </thead>\n",
       "  <tbody>\n",
       "    <tr>\n",
       "      <th>0</th>\n",
       "      <td>1</td>\n",
       "      <td>Walmart</td>\n",
       "      <td>Hypermarket/Supercenter/Superstore</td>\n",
       "      <td>559151</td>\n",
       "      <td>2.5%</td>\n",
       "      <td>United States, Bentonville</td>\n",
       "    </tr>\n",
       "    <tr>\n",
       "      <th>1</th>\n",
       "      <td>2</td>\n",
       "      <td>Amazon</td>\n",
       "      <td>Non-Store,E-commerce</td>\n",
       "      <td>213573</td>\n",
       "      <td>5.5%</td>\n",
       "      <td>United States, Seattle</td>\n",
       "    </tr>\n",
       "    <tr>\n",
       "      <th>2</th>\n",
       "      <td>3</td>\n",
       "      <td>Costco</td>\n",
       "      <td>Cash &amp; Carry/Warehouse Club</td>\n",
       "      <td>166761</td>\n",
       "      <td>2.4%</td>\n",
       "      <td>United States, Issaquah</td>\n",
       "    </tr>\n",
       "    <tr>\n",
       "      <th>3</th>\n",
       "      <td>4</td>\n",
       "      <td>Schwarz Gruppe</td>\n",
       "      <td>Discount Store</td>\n",
       "      <td>144254</td>\n",
       "      <td>...</td>\n",
       "      <td>Germany, Neckarsulm</td>\n",
       "    </tr>\n",
       "    <tr>\n",
       "      <th>4</th>\n",
       "      <td>5</td>\n",
       "      <td>The Home Depot</td>\n",
       "      <td>Home Improvement</td>\n",
       "      <td>132110</td>\n",
       "      <td>9.7%</td>\n",
       "      <td>United States, Atlanta</td>\n",
       "    </tr>\n",
       "    <tr>\n",
       "      <th>...</th>\n",
       "      <td>...</td>\n",
       "      <td>...</td>\n",
       "      <td>...</td>\n",
       "      <td>...</td>\n",
       "      <td>...</td>\n",
       "      <td>...</td>\n",
       "    </tr>\n",
       "    <tr>\n",
       "      <th>96</th>\n",
       "      <td>97</td>\n",
       "      <td>El Corte Inglés</td>\n",
       "      <td>Department Store</td>\n",
       "      <td>11098</td>\n",
       "      <td>-28.3%</td>\n",
       "      <td>Spain, Madrid</td>\n",
       "    </tr>\n",
       "    <tr>\n",
       "      <th>97</th>\n",
       "      <td>98</td>\n",
       "      <td>Coupang</td>\n",
       "      <td>Non-store</td>\n",
       "      <td>11045</td>\n",
       "      <td>-4.0%</td>\n",
       "      <td>South Korea, Seoul</td>\n",
       "    </tr>\n",
       "    <tr>\n",
       "      <th>98</th>\n",
       "      <td>99</td>\n",
       "      <td>Hy-Vee</td>\n",
       "      <td>Supermarket</td>\n",
       "      <td>11000</td>\n",
       "      <td>...</td>\n",
       "      <td>United States, West Des Moines</td>\n",
       "    </tr>\n",
       "    <tr>\n",
       "      <th>99</th>\n",
       "      <td>100</td>\n",
       "      <td>Shoprite Holdings</td>\n",
       "      <td>Supermarket</td>\n",
       "      <td>10892</td>\n",
       "      <td>2.9%</td>\n",
       "      <td>South Africa, Cape Town</td>\n",
       "    </tr>\n",
       "    <tr>\n",
       "      <th>100</th>\n",
       "      <td>101</td>\n",
       "      <td>Adyar Ananda Bhavan</td>\n",
       "      <td>Restaurants and Foods</td>\n",
       "      <td>2000</td>\n",
       "      <td>NaN</td>\n",
       "      <td>India, Chennai</td>\n",
       "    </tr>\n",
       "  </tbody>\n",
       "</table>\n",
       "<p>101 rows × 6 columns</p>\n",
       "</div>"
      ],
      "text/plain": [
       "     Rank                 Name         Dominant operational format  \\\n",
       "0       1              Walmart  Hypermarket/Supercenter/Superstore   \n",
       "1       2               Amazon                Non-Store,E-commerce   \n",
       "2       3               Costco         Cash & Carry/Warehouse Club   \n",
       "3       4       Schwarz Gruppe                      Discount Store   \n",
       "4       5       The Home Depot                    Home Improvement   \n",
       "..    ...                  ...                                 ...   \n",
       "96     97      El Corte Inglés                    Department Store   \n",
       "97     98              Coupang                           Non-store   \n",
       "98     99               Hy-Vee                         Supermarket   \n",
       "99    100    Shoprite Holdings                         Supermarket   \n",
       "100   101  Adyar Ananda Bhavan               Restaurants and Foods   \n",
       "\n",
       "     Retail revenue (US$ millions) Net profit margin  \\\n",
       "0                           559151              2.5%   \n",
       "1                           213573              5.5%   \n",
       "2                           166761              2.4%   \n",
       "3                           144254               ...   \n",
       "4                           132110              9.7%   \n",
       "..                             ...               ...   \n",
       "96                           11098            -28.3%   \n",
       "97                           11045             -4.0%   \n",
       "98                           11000               ...   \n",
       "99                           10892              2.9%   \n",
       "100                           2000               NaN   \n",
       "\n",
       "                       Headquarters  \n",
       "0        United States, Bentonville  \n",
       "1            United States, Seattle  \n",
       "2           United States, Issaquah  \n",
       "3               Germany, Neckarsulm  \n",
       "4            United States, Atlanta  \n",
       "..                              ...  \n",
       "96                    Spain, Madrid  \n",
       "97               South Korea, Seoul  \n",
       "98   United States, West Des Moines  \n",
       "99          South Africa, Cape Town  \n",
       "100                  India, Chennai  \n",
       "\n",
       "[101 rows x 6 columns]"
      ]
     },
     "execution_count": 7,
     "metadata": {},
     "output_type": "execute_result"
    }
   ],
   "source": [
    "df_retail"
   ]
  },
  {
   "cell_type": "code",
   "execution_count": 8,
   "id": "6d57a7e4",
   "metadata": {},
   "outputs": [],
   "source": [
    "df_retail.to_csv('df_retail')"
   ]
  },
  {
   "cell_type": "code",
   "execution_count": 9,
   "id": "7017a3a3",
   "metadata": {},
   "outputs": [],
   "source": [
    "df_retail[['country','state','0']]=df_retail['Headquarters'].str.split(',',expand = True)"
   ]
  },
  {
   "cell_type": "code",
   "execution_count": 10,
   "id": "9a584a16",
   "metadata": {},
   "outputs": [
    {
     "data": {
      "text/html": [
       "<div>\n",
       "<style scoped>\n",
       "    .dataframe tbody tr th:only-of-type {\n",
       "        vertical-align: middle;\n",
       "    }\n",
       "\n",
       "    .dataframe tbody tr th {\n",
       "        vertical-align: top;\n",
       "    }\n",
       "\n",
       "    .dataframe thead th {\n",
       "        text-align: right;\n",
       "    }\n",
       "</style>\n",
       "<table border=\"1\" class=\"dataframe\">\n",
       "  <thead>\n",
       "    <tr style=\"text-align: right;\">\n",
       "      <th></th>\n",
       "      <th>Rank</th>\n",
       "      <th>Name</th>\n",
       "      <th>Dominant operational format</th>\n",
       "      <th>Retail revenue (US$ millions)</th>\n",
       "      <th>Net profit margin</th>\n",
       "      <th>Headquarters</th>\n",
       "      <th>country</th>\n",
       "      <th>state</th>\n",
       "      <th>0</th>\n",
       "    </tr>\n",
       "  </thead>\n",
       "  <tbody>\n",
       "    <tr>\n",
       "      <th>0</th>\n",
       "      <td>1</td>\n",
       "      <td>Walmart</td>\n",
       "      <td>Hypermarket/Supercenter/Superstore</td>\n",
       "      <td>559151</td>\n",
       "      <td>2.5%</td>\n",
       "      <td>United States, Bentonville</td>\n",
       "      <td>United States</td>\n",
       "      <td>Bentonville</td>\n",
       "      <td>None</td>\n",
       "    </tr>\n",
       "    <tr>\n",
       "      <th>1</th>\n",
       "      <td>2</td>\n",
       "      <td>Amazon</td>\n",
       "      <td>Non-Store,E-commerce</td>\n",
       "      <td>213573</td>\n",
       "      <td>5.5%</td>\n",
       "      <td>United States, Seattle</td>\n",
       "      <td>United States</td>\n",
       "      <td>Seattle</td>\n",
       "      <td>None</td>\n",
       "    </tr>\n",
       "    <tr>\n",
       "      <th>2</th>\n",
       "      <td>3</td>\n",
       "      <td>Costco</td>\n",
       "      <td>Cash &amp; Carry/Warehouse Club</td>\n",
       "      <td>166761</td>\n",
       "      <td>2.4%</td>\n",
       "      <td>United States, Issaquah</td>\n",
       "      <td>United States</td>\n",
       "      <td>Issaquah</td>\n",
       "      <td>None</td>\n",
       "    </tr>\n",
       "    <tr>\n",
       "      <th>3</th>\n",
       "      <td>4</td>\n",
       "      <td>Schwarz Gruppe</td>\n",
       "      <td>Discount Store</td>\n",
       "      <td>144254</td>\n",
       "      <td>...</td>\n",
       "      <td>Germany, Neckarsulm</td>\n",
       "      <td>Germany</td>\n",
       "      <td>Neckarsulm</td>\n",
       "      <td>None</td>\n",
       "    </tr>\n",
       "    <tr>\n",
       "      <th>4</th>\n",
       "      <td>5</td>\n",
       "      <td>The Home Depot</td>\n",
       "      <td>Home Improvement</td>\n",
       "      <td>132110</td>\n",
       "      <td>9.7%</td>\n",
       "      <td>United States, Atlanta</td>\n",
       "      <td>United States</td>\n",
       "      <td>Atlanta</td>\n",
       "      <td>None</td>\n",
       "    </tr>\n",
       "    <tr>\n",
       "      <th>...</th>\n",
       "      <td>...</td>\n",
       "      <td>...</td>\n",
       "      <td>...</td>\n",
       "      <td>...</td>\n",
       "      <td>...</td>\n",
       "      <td>...</td>\n",
       "      <td>...</td>\n",
       "      <td>...</td>\n",
       "      <td>...</td>\n",
       "    </tr>\n",
       "    <tr>\n",
       "      <th>96</th>\n",
       "      <td>97</td>\n",
       "      <td>El Corte Inglés</td>\n",
       "      <td>Department Store</td>\n",
       "      <td>11098</td>\n",
       "      <td>-28.3%</td>\n",
       "      <td>Spain, Madrid</td>\n",
       "      <td>Spain</td>\n",
       "      <td>Madrid</td>\n",
       "      <td>None</td>\n",
       "    </tr>\n",
       "    <tr>\n",
       "      <th>97</th>\n",
       "      <td>98</td>\n",
       "      <td>Coupang</td>\n",
       "      <td>Non-store</td>\n",
       "      <td>11045</td>\n",
       "      <td>-4.0%</td>\n",
       "      <td>South Korea, Seoul</td>\n",
       "      <td>South Korea</td>\n",
       "      <td>Seoul</td>\n",
       "      <td>None</td>\n",
       "    </tr>\n",
       "    <tr>\n",
       "      <th>98</th>\n",
       "      <td>99</td>\n",
       "      <td>Hy-Vee</td>\n",
       "      <td>Supermarket</td>\n",
       "      <td>11000</td>\n",
       "      <td>...</td>\n",
       "      <td>United States, West Des Moines</td>\n",
       "      <td>United States</td>\n",
       "      <td>West Des Moines</td>\n",
       "      <td>None</td>\n",
       "    </tr>\n",
       "    <tr>\n",
       "      <th>99</th>\n",
       "      <td>100</td>\n",
       "      <td>Shoprite Holdings</td>\n",
       "      <td>Supermarket</td>\n",
       "      <td>10892</td>\n",
       "      <td>2.9%</td>\n",
       "      <td>South Africa, Cape Town</td>\n",
       "      <td>South Africa</td>\n",
       "      <td>Cape Town</td>\n",
       "      <td>None</td>\n",
       "    </tr>\n",
       "    <tr>\n",
       "      <th>100</th>\n",
       "      <td>101</td>\n",
       "      <td>Adyar Ananda Bhavan</td>\n",
       "      <td>Restaurants and Foods</td>\n",
       "      <td>2000</td>\n",
       "      <td>NaN</td>\n",
       "      <td>India, Chennai</td>\n",
       "      <td>India</td>\n",
       "      <td>Chennai</td>\n",
       "      <td>None</td>\n",
       "    </tr>\n",
       "  </tbody>\n",
       "</table>\n",
       "<p>101 rows × 9 columns</p>\n",
       "</div>"
      ],
      "text/plain": [
       "     Rank                 Name         Dominant operational format  \\\n",
       "0       1              Walmart  Hypermarket/Supercenter/Superstore   \n",
       "1       2               Amazon                Non-Store,E-commerce   \n",
       "2       3               Costco         Cash & Carry/Warehouse Club   \n",
       "3       4       Schwarz Gruppe                      Discount Store   \n",
       "4       5       The Home Depot                    Home Improvement   \n",
       "..    ...                  ...                                 ...   \n",
       "96     97      El Corte Inglés                    Department Store   \n",
       "97     98              Coupang                           Non-store   \n",
       "98     99               Hy-Vee                         Supermarket   \n",
       "99    100    Shoprite Holdings                         Supermarket   \n",
       "100   101  Adyar Ananda Bhavan               Restaurants and Foods   \n",
       "\n",
       "     Retail revenue (US$ millions) Net profit margin  \\\n",
       "0                           559151              2.5%   \n",
       "1                           213573              5.5%   \n",
       "2                           166761              2.4%   \n",
       "3                           144254               ...   \n",
       "4                           132110              9.7%   \n",
       "..                             ...               ...   \n",
       "96                           11098            -28.3%   \n",
       "97                           11045             -4.0%   \n",
       "98                           11000               ...   \n",
       "99                           10892              2.9%   \n",
       "100                           2000               NaN   \n",
       "\n",
       "                       Headquarters        country             state     0  \n",
       "0        United States, Bentonville  United States       Bentonville  None  \n",
       "1            United States, Seattle  United States           Seattle  None  \n",
       "2           United States, Issaquah  United States          Issaquah  None  \n",
       "3               Germany, Neckarsulm        Germany        Neckarsulm  None  \n",
       "4            United States, Atlanta  United States           Atlanta  None  \n",
       "..                              ...            ...               ...   ...  \n",
       "96                    Spain, Madrid          Spain            Madrid  None  \n",
       "97               South Korea, Seoul    South Korea             Seoul  None  \n",
       "98   United States, West Des Moines  United States   West Des Moines  None  \n",
       "99          South Africa, Cape Town   South Africa         Cape Town  None  \n",
       "100                  India, Chennai          India           Chennai  None  \n",
       "\n",
       "[101 rows x 9 columns]"
      ]
     },
     "execution_count": 10,
     "metadata": {},
     "output_type": "execute_result"
    }
   ],
   "source": [
    "df_retail"
   ]
  },
  {
   "cell_type": "code",
   "execution_count": 11,
   "id": "c6b9488f",
   "metadata": {},
   "outputs": [
    {
     "data": {
      "text/plain": [
       "array(['United States', 'Germany', 'China', 'Netherlands', 'Japan',\n",
       "       'United Kingdom', 'France', 'Australia', 'Canada', 'Switzerland',\n",
       "       'Spain', 'Russia', 'Hong Kong', 'Portugal', 'Sweden', 'India',\n",
       "       'South Korea', 'Thailand', 'Italy', 'Mexico', 'Chile', 'Finland',\n",
       "       'South Africa'], dtype=object)"
      ]
     },
     "execution_count": 11,
     "metadata": {},
     "output_type": "execute_result"
    }
   ],
   "source": [
    "df_retail.country.unique()"
   ]
  },
  {
   "cell_type": "code",
   "execution_count": 12,
   "id": "3f08dbbf",
   "metadata": {},
   "outputs": [],
   "source": [
    "df_retail_count=df_retail.groupby('country').agg({'Name':'count'}).reset_index()\n"
   ]
  },
  {
   "cell_type": "code",
   "execution_count": 13,
   "id": "57c582dd",
   "metadata": {},
   "outputs": [],
   "source": [
    "df_retail_count=df_retail_count.rename(columns={\"Name\":'count'})"
   ]
  },
  {
   "cell_type": "code",
   "execution_count": 14,
   "id": "6f9d4bc2",
   "metadata": {},
   "outputs": [],
   "source": [
    "df_retail_count=df_retail_count.sort_values('count',ascending=False)"
   ]
  },
  {
   "cell_type": "code",
   "execution_count": 15,
   "id": "ae31b89a",
   "metadata": {},
   "outputs": [],
   "source": [
    "top_5=df_retail_count.head(5)"
   ]
  },
  {
   "cell_type": "code",
   "execution_count": 16,
   "id": "d63d0ebe",
   "metadata": {},
   "outputs": [
    {
     "data": {
      "text/plain": [
       "<AxesSubplot:xlabel='country', ylabel='count'>"
      ]
     },
     "execution_count": 16,
     "metadata": {},
     "output_type": "execute_result"
    },
    {
     "data": {
      "image/png": "[encoded data removed]",
      "text/plain": [
       "<Figure size 432x288 with 1 Axes>"
      ]
     },
     "metadata": {
      "needs_background": "light"
     },
     "output_type": "display_data"
    }
   ],
   "source": [
    "sns.barplot(data=top_5.head(5),x=top_5['country'],y=top_5['count'])"
   ]
  },
  {
   "cell_type": "code",
   "execution_count": 17,
   "id": "46ff558c",
   "metadata": {},
   "outputs": [],
   "source": [
    "df_retail_usa=df_retail[df_retail['country']=='United States'].reset_index().drop('index',axis=1)"
   ]
  },
  {
   "cell_type": "code",
   "execution_count": 18,
   "id": "cf5a6850",
   "metadata": {},
   "outputs": [],
   "source": [
    "df_retail_usa=df_retail_usa.rename(columns={'Rank':'Global Rank'})"
   ]
  },
  {
   "cell_type": "code",
   "execution_count": 19,
   "id": "8342605f",
   "metadata": {},
   "outputs": [],
   "source": [
    "df_retail_usa=df_retail_usa.sort_values('Global Rank')"
   ]
  },
  {
   "cell_type": "code",
   "execution_count": 20,
   "id": "6593c204",
   "metadata": {},
   "outputs": [
    {
     "data": {
      "text/plain": [
       "Index(['Global Rank', 'Name', 'Dominant operational format',\n",
       "       'Retail revenue (US$ millions)', 'Net profit margin', 'Headquarters',\n",
       "       'country', 'state', '0'],\n",
       "      dtype='object')"
      ]
     },
     "execution_count": 20,
     "metadata": {},
     "output_type": "execute_result"
    }
   ],
   "source": [
    "df_retail_usa.columns"
   ]
  },
  {
   "cell_type": "code",
   "execution_count": 21,
   "id": "eccc584a",
   "metadata": {},
   "outputs": [],
   "source": [
    "df_index=df_retail_usa[df_retail_usa['Net profit margin']=='...'].index"
   ]
  },
  {
   "cell_type": "code",
   "execution_count": 22,
   "id": "02df1812",
   "metadata": {},
   "outputs": [],
   "source": [
    "df_retail_usa=df_retail_usa.drop(index=df_index,axis=0)"
   ]
  },
  {
   "cell_type": "code",
   "execution_count": 23,
   "id": "1e849677",
   "metadata": {},
   "outputs": [],
   "source": [
    "df_retail_usa['Net profit margin'] = df_retail_usa['Net profit margin'].str.replace('%', '').astype('float')"
   ]
  },
  {
   "cell_type": "code",
   "execution_count": 24,
   "id": "27ee0f7e",
   "metadata": {},
   "outputs": [
    {
     "data": {
      "text/plain": [
       "<AxesSubplot:xlabel='Name', ylabel='Net profit margin'>"
      ]
     },
     "execution_count": 24,
     "metadata": {},
     "output_type": "execute_result"
    },
    {
     "data": {
      "image/png": "[encoded data removed]",
      "text/plain": [
       "<Figure size 2000x400 with 1 Axes>"
      ]
     },
     "metadata": {
      "needs_background": "light"
     },
     "output_type": "display_data"
    }
   ],
   "source": [
    "plt.figure(figsize=(25, 5), dpi=80)\n",
    "sns.barplot(data=df_retail_usa,x=df_retail_usa['Name'],y=df_retail_usa['Net profit margin'])"
   ]
  },
  {
   "cell_type": "code",
   "execution_count": 25,
   "id": "5c16dfb5",
   "metadata": {},
   "outputs": [
    {
     "data": {
      "text/plain": [
       "0           Walmart\n",
       "1            Amazon\n",
       "2            Costco\n",
       "3    The Home Depot\n",
       "4            Kroger\n",
       "Name: Name, dtype: object"
      ]
     },
     "execution_count": 25,
     "metadata": {},
     "output_type": "execute_result"
    }
   ],
   "source": [
    "df_retail_usa['Name'].head(5)"
   ]
  },
  {
   "cell_type": "markdown",
   "id": "07d44d63",
   "metadata": {},
   "source": [
    "# Walmart"
   ]
  },
  {
   "cell_type": "code",
   "execution_count": 26,
   "id": "581ac5c5",
   "metadata": {},
   "outputs": [],
   "source": [
    "df_walmart=getdf('https://en.wikipedia.org/wiki/Walmart','wikitable float-left')"
   ]
  },
  {
   "cell_type": "code",
   "execution_count": 27,
   "id": "f7343dd8",
   "metadata": {},
   "outputs": [],
   "source": [
    "df_walmart['companyName']='Walmart'"
   ]
  },
  {
   "cell_type": "code",
   "execution_count": 28,
   "id": "48aae562",
   "metadata": {},
   "outputs": [],
   "source": [
    "df_walmart.columns=['Year', 'Revenue[151]in mil. US$', 'Net incomein mil. US$',\n",
    "       'Total Assetsin mil. US$','Price perShare (US$)', 'Employees','Stores', 'companyName']"
   ]
  },
  {
   "cell_type": "code",
   "execution_count": 29,
   "id": "0a381d96",
   "metadata": {},
   "outputs": [
    {
     "data": {
      "text/html": [
       "<div>\n",
       "<style scoped>\n",
       "    .dataframe tbody tr th:only-of-type {\n",
       "        vertical-align: middle;\n",
       "    }\n",
       "\n",
       "    .dataframe tbody tr th {\n",
       "        vertical-align: top;\n",
       "    }\n",
       "\n",
       "    .dataframe thead th {\n",
       "        text-align: right;\n",
       "    }\n",
       "</style>\n",
       "<table border=\"1\" class=\"dataframe\">\n",
       "  <thead>\n",
       "    <tr style=\"text-align: right;\">\n",
       "      <th></th>\n",
       "      <th>Year</th>\n",
       "      <th>Revenue[151]in mil. US$</th>\n",
       "      <th>Net incomein mil. US$</th>\n",
       "      <th>Total Assetsin mil. US$</th>\n",
       "      <th>Price perShare (US$)</th>\n",
       "      <th>Employees</th>\n",
       "      <th>Stores</th>\n",
       "      <th>companyName</th>\n",
       "    </tr>\n",
       "  </thead>\n",
       "  <tbody>\n",
       "    <tr>\n",
       "      <th>0</th>\n",
       "      <td>1968[344]</td>\n",
       "      <td>12.618754</td>\n",
       "      <td>0.481754</td>\n",
       "      <td>NaN</td>\n",
       "      <td>NaN</td>\n",
       "      <td>NaN</td>\n",
       "      <td>24</td>\n",
       "      <td>Walmart</td>\n",
       "    </tr>\n",
       "    <tr>\n",
       "      <th>1</th>\n",
       "      <td>1969[344]</td>\n",
       "      <td>21.365081</td>\n",
       "      <td>0.605211</td>\n",
       "      <td>NaN</td>\n",
       "      <td>NaN</td>\n",
       "      <td>NaN</td>\n",
       "      <td>27</td>\n",
       "      <td>Walmart</td>\n",
       "    </tr>\n",
       "    <tr>\n",
       "      <th>2</th>\n",
       "      <td>1970[344]</td>\n",
       "      <td>30.862659</td>\n",
       "      <td>1.187764</td>\n",
       "      <td>NaN</td>\n",
       "      <td>NaN</td>\n",
       "      <td>1000.0</td>\n",
       "      <td>32</td>\n",
       "      <td>Walmart</td>\n",
       "    </tr>\n",
       "    <tr>\n",
       "      <th>3</th>\n",
       "      <td>1971[345]</td>\n",
       "      <td>44.286012</td>\n",
       "      <td>1.651599</td>\n",
       "      <td>15.331</td>\n",
       "      <td>NaN</td>\n",
       "      <td>1500.0</td>\n",
       "      <td>38</td>\n",
       "      <td>Walmart</td>\n",
       "    </tr>\n",
       "    <tr>\n",
       "      <th>4</th>\n",
       "      <td>1972[345]</td>\n",
       "      <td>78.014164</td>\n",
       "      <td>2.907354</td>\n",
       "      <td>28.463</td>\n",
       "      <td>NaN</td>\n",
       "      <td>2300.0</td>\n",
       "      <td>51</td>\n",
       "      <td>Walmart</td>\n",
       "    </tr>\n",
       "  </tbody>\n",
       "</table>\n",
       "</div>"
      ],
      "text/plain": [
       "        Year  Revenue[151]in mil. US$  Net incomein mil. US$  \\\n",
       "0  1968[344]                12.618754               0.481754   \n",
       "1  1969[344]                21.365081               0.605211   \n",
       "2  1970[344]                30.862659               1.187764   \n",
       "3  1971[345]                44.286012               1.651599   \n",
       "4  1972[345]                78.014164               2.907354   \n",
       "\n",
       "   Total Assetsin mil. US$  Price perShare (US$)  Employees  Stores  \\\n",
       "0                      NaN                   NaN        NaN      24   \n",
       "1                      NaN                   NaN        NaN      27   \n",
       "2                      NaN                   NaN     1000.0      32   \n",
       "3                   15.331                   NaN     1500.0      38   \n",
       "4                   28.463                   NaN     2300.0      51   \n",
       "\n",
       "  companyName  \n",
       "0     Walmart  \n",
       "1     Walmart  \n",
       "2     Walmart  \n",
       "3     Walmart  \n",
       "4     Walmart  "
      ]
     },
     "execution_count": 29,
     "metadata": {},
     "output_type": "execute_result"
    }
   ],
   "source": [
    "df_walmart.head()"
   ]
  },
  {
   "cell_type": "code",
   "execution_count": null,
   "id": "1c20661c",
   "metadata": {},
   "outputs": [],
   "source": []
  },
  {
   "cell_type": "code",
   "execution_count": 30,
   "id": "55bbcf17",
   "metadata": {},
   "outputs": [],
   "source": [
    "df_walmart[['Year','remove']]=df_walmart['Year'].str.split('[',expand = True)"
   ]
  },
  {
   "cell_type": "code",
   "execution_count": 31,
   "id": "312d66e8",
   "metadata": {},
   "outputs": [
    {
     "data": {
      "text/html": [
       "<div>\n",
       "<style scoped>\n",
       "    .dataframe tbody tr th:only-of-type {\n",
       "        vertical-align: middle;\n",
       "    }\n",
       "\n",
       "    .dataframe tbody tr th {\n",
       "        vertical-align: top;\n",
       "    }\n",
       "\n",
       "    .dataframe thead th {\n",
       "        text-align: right;\n",
       "    }\n",
       "</style>\n",
       "<table border=\"1\" class=\"dataframe\">\n",
       "  <thead>\n",
       "    <tr style=\"text-align: right;\">\n",
       "      <th></th>\n",
       "      <th>Year</th>\n",
       "      <th>Revenue[151]in mil. US$</th>\n",
       "      <th>Net incomein mil. US$</th>\n",
       "      <th>Total Assetsin mil. US$</th>\n",
       "      <th>Price perShare (US$)</th>\n",
       "      <th>Employees</th>\n",
       "      <th>Stores</th>\n",
       "      <th>companyName</th>\n",
       "      <th>remove</th>\n",
       "    </tr>\n",
       "  </thead>\n",
       "  <tbody>\n",
       "    <tr>\n",
       "      <th>0</th>\n",
       "      <td>1968</td>\n",
       "      <td>12.618754</td>\n",
       "      <td>0.481754</td>\n",
       "      <td>NaN</td>\n",
       "      <td>NaN</td>\n",
       "      <td>NaN</td>\n",
       "      <td>24</td>\n",
       "      <td>Walmart</td>\n",
       "      <td>344]</td>\n",
       "    </tr>\n",
       "    <tr>\n",
       "      <th>1</th>\n",
       "      <td>1969</td>\n",
       "      <td>21.365081</td>\n",
       "      <td>0.605211</td>\n",
       "      <td>NaN</td>\n",
       "      <td>NaN</td>\n",
       "      <td>NaN</td>\n",
       "      <td>27</td>\n",
       "      <td>Walmart</td>\n",
       "      <td>344]</td>\n",
       "    </tr>\n",
       "    <tr>\n",
       "      <th>2</th>\n",
       "      <td>1970</td>\n",
       "      <td>30.862659</td>\n",
       "      <td>1.187764</td>\n",
       "      <td>NaN</td>\n",
       "      <td>NaN</td>\n",
       "      <td>1000.0</td>\n",
       "      <td>32</td>\n",
       "      <td>Walmart</td>\n",
       "      <td>344]</td>\n",
       "    </tr>\n",
       "    <tr>\n",
       "      <th>3</th>\n",
       "      <td>1971</td>\n",
       "      <td>44.286012</td>\n",
       "      <td>1.651599</td>\n",
       "      <td>15.331</td>\n",
       "      <td>NaN</td>\n",
       "      <td>1500.0</td>\n",
       "      <td>38</td>\n",
       "      <td>Walmart</td>\n",
       "      <td>345]</td>\n",
       "    </tr>\n",
       "    <tr>\n",
       "      <th>4</th>\n",
       "      <td>1972</td>\n",
       "      <td>78.014164</td>\n",
       "      <td>2.907354</td>\n",
       "      <td>28.463</td>\n",
       "      <td>NaN</td>\n",
       "      <td>2300.0</td>\n",
       "      <td>51</td>\n",
       "      <td>Walmart</td>\n",
       "      <td>345]</td>\n",
       "    </tr>\n",
       "  </tbody>\n",
       "</table>\n",
       "</div>"
      ],
      "text/plain": [
       "   Year  Revenue[151]in mil. US$  Net incomein mil. US$  \\\n",
       "0  1968                12.618754               0.481754   \n",
       "1  1969                21.365081               0.605211   \n",
       "2  1970                30.862659               1.187764   \n",
       "3  1971                44.286012               1.651599   \n",
       "4  1972                78.014164               2.907354   \n",
       "\n",
       "   Total Assetsin mil. US$  Price perShare (US$)  Employees  Stores  \\\n",
       "0                      NaN                   NaN        NaN      24   \n",
       "1                      NaN                   NaN        NaN      27   \n",
       "2                      NaN                   NaN     1000.0      32   \n",
       "3                   15.331                   NaN     1500.0      38   \n",
       "4                   28.463                   NaN     2300.0      51   \n",
       "\n",
       "  companyName remove  \n",
       "0     Walmart   344]  \n",
       "1     Walmart   344]  \n",
       "2     Walmart   344]  \n",
       "3     Walmart   345]  \n",
       "4     Walmart   345]  "
      ]
     },
     "execution_count": 31,
     "metadata": {},
     "output_type": "execute_result"
    }
   ],
   "source": [
    "df_walmart.head()"
   ]
  },
  {
   "cell_type": "code",
   "execution_count": 32,
   "id": "fa06c7ba",
   "metadata": {},
   "outputs": [],
   "source": [
    "df_walmart=df_walmart.rename(columns={'Revenue[151]in mil. US$':'Revenue','Net incomein mil. US$':'NetIncome'})"
   ]
  },
  {
   "cell_type": "code",
   "execution_count": 33,
   "id": "36356361",
   "metadata": {},
   "outputs": [
    {
     "data": {
      "text/plain": [
       "<AxesSubplot:xlabel='Stores', ylabel='Employees'>"
      ]
     },
     "execution_count": 33,
     "metadata": {},
     "output_type": "execute_result"
    },
    {
     "data": {
      "image/png": "[encoded data removed]",
      "text/plain": [
       "<Figure size 432x288 with 1 Axes>"
      ]
     },
     "metadata": {
      "needs_background": "light"
     },
     "output_type": "display_data"
    }
   ],
   "source": [
    "sns.scatterplot(data=df_walmart,x=df_walmart['Stores'],y=df_walmart['Employees'])"
   ]
  },
  {
   "cell_type": "code",
   "execution_count": 34,
   "id": "d25661c1",
   "metadata": {},
   "outputs": [],
   "source": [
    "df_wal_curve=df_walmart[['Stores','Employees']]"
   ]
  },
  {
   "cell_type": "code",
   "execution_count": 35,
   "id": "e26f389a",
   "metadata": {},
   "outputs": [],
   "source": [
    "df_wal_curve=df_wal_curve.drop(index=[0,1],axis=0).reset_index()"
   ]
  },
  {
   "cell_type": "code",
   "execution_count": 36,
   "id": "5c130cdc",
   "metadata": {},
   "outputs": [],
   "source": [
    "X=df_wal_curve['Stores']\n",
    "y=df_wal_curve['Employees']"
   ]
  },
  {
   "cell_type": "code",
   "execution_count": 37,
   "id": "88f9b10e",
   "metadata": {},
   "outputs": [],
   "source": [
    "a,b,c=np.polyfit(X,y,2)"
   ]
  },
  {
   "cell_type": "code",
   "execution_count": 38,
   "id": "afea11d9",
   "metadata": {},
   "outputs": [],
   "source": [
    "num_stores=np.linspace(0,12000,2000)"
   ]
  },
  {
   "cell_type": "code",
   "execution_count": 39,
   "id": "58c7819a",
   "metadata": {},
   "outputs": [],
   "source": [
    "pred_employees=a*num_stores**2+b*num_stores+c"
   ]
  },
  {
   "cell_type": "code",
   "execution_count": 40,
   "id": "c8367856",
   "metadata": {},
   "outputs": [
    {
     "data": {
      "text/plain": [
       "[<matplotlib.lines.Line2D at 0x7fc43fa7c7c0>]"
      ]
     },
     "execution_count": 40,
     "metadata": {},
     "output_type": "execute_result"
    },
    {
     "data": {
      "image/png": "[encoded data removed]",
      "text/plain": [
       "<Figure size 432x288 with 1 Axes>"
      ]
     },
     "metadata": {
      "needs_background": "light"
     },
     "output_type": "display_data"
    }
   ],
   "source": [
    "sns.scatterplot(data=df_wal_curve,x=df_wal_curve['Stores'],y=df_wal_curve['Employees'])\n",
    "plt.plot(num_stores,pred_employees,color='red')"
   ]
  },
  {
   "cell_type": "markdown",
   "id": "82f50dc2",
   "metadata": {},
   "source": [
    "# Amazon"
   ]
  },
  {
   "cell_type": "code",
   "execution_count": 41,
   "id": "f36fb6f0",
   "metadata": {},
   "outputs": [],
   "source": [
    "df_amazon=getdf('https://en.wikipedia.org/wiki/Amazon_(company)','wikitable float-left')"
   ]
  },
  {
   "cell_type": "code",
   "execution_count": 42,
   "id": "a32c27f4",
   "metadata": {},
   "outputs": [
    {
     "data": {
      "text/plain": [
       "Index(['Year', 'Revenue[151]in mil. US$', 'Net incomein mil. US$',\n",
       "       'Total Assetsin mil. US$', 'Employees'],\n",
       "      dtype='object')"
      ]
     },
     "execution_count": 42,
     "metadata": {},
     "output_type": "execute_result"
    }
   ],
   "source": [
    "df_amazon.columns"
   ]
  },
  {
   "cell_type": "code",
   "execution_count": 43,
   "id": "aad0838f",
   "metadata": {},
   "outputs": [],
   "source": [
    "df_amazon['companyName']='Amazon'"
   ]
  },
  {
   "cell_type": "code",
   "execution_count": 44,
   "id": "5efcdf1a",
   "metadata": {},
   "outputs": [
    {
     "data": {
      "text/html": [
       "<div>\n",
       "<style scoped>\n",
       "    .dataframe tbody tr th:only-of-type {\n",
       "        vertical-align: middle;\n",
       "    }\n",
       "\n",
       "    .dataframe tbody tr th {\n",
       "        vertical-align: top;\n",
       "    }\n",
       "\n",
       "    .dataframe thead th {\n",
       "        text-align: right;\n",
       "    }\n",
       "</style>\n",
       "<table border=\"1\" class=\"dataframe\">\n",
       "  <thead>\n",
       "    <tr style=\"text-align: right;\">\n",
       "      <th></th>\n",
       "      <th>Year</th>\n",
       "      <th>Revenue[151]in mil. US$</th>\n",
       "      <th>Net incomein mil. US$</th>\n",
       "      <th>Total Assetsin mil. US$</th>\n",
       "      <th>Employees</th>\n",
       "      <th>companyName</th>\n",
       "    </tr>\n",
       "  </thead>\n",
       "  <tbody>\n",
       "    <tr>\n",
       "      <th>0</th>\n",
       "      <td>1995[152]</td>\n",
       "      <td>0.5</td>\n",
       "      <td>−0.3</td>\n",
       "      <td>1.1</td>\n",
       "      <td>NaN</td>\n",
       "      <td>Amazon</td>\n",
       "    </tr>\n",
       "    <tr>\n",
       "      <th>1</th>\n",
       "      <td>1996[152]</td>\n",
       "      <td>16.0</td>\n",
       "      <td>−6</td>\n",
       "      <td>8.0</td>\n",
       "      <td>NaN</td>\n",
       "      <td>Amazon</td>\n",
       "    </tr>\n",
       "    <tr>\n",
       "      <th>2</th>\n",
       "      <td>1997[152]</td>\n",
       "      <td>148.0</td>\n",
       "      <td>−28</td>\n",
       "      <td>149.0</td>\n",
       "      <td>614.0</td>\n",
       "      <td>Amazon</td>\n",
       "    </tr>\n",
       "    <tr>\n",
       "      <th>3</th>\n",
       "      <td>1998[153]</td>\n",
       "      <td>610.0</td>\n",
       "      <td>−124</td>\n",
       "      <td>648.0</td>\n",
       "      <td>2100.0</td>\n",
       "      <td>Amazon</td>\n",
       "    </tr>\n",
       "    <tr>\n",
       "      <th>4</th>\n",
       "      <td>1999[153]</td>\n",
       "      <td>1639.0</td>\n",
       "      <td>−720</td>\n",
       "      <td>2466.0</td>\n",
       "      <td>7600.0</td>\n",
       "      <td>Amazon</td>\n",
       "    </tr>\n",
       "  </tbody>\n",
       "</table>\n",
       "</div>"
      ],
      "text/plain": [
       "        Year  Revenue[151]in mil. US$ Net incomein mil. US$  \\\n",
       "0  1995[152]                      0.5                  −0.3   \n",
       "1  1996[152]                     16.0                    −6   \n",
       "2  1997[152]                    148.0                   −28   \n",
       "3  1998[153]                    610.0                  −124   \n",
       "4  1999[153]                   1639.0                  −720   \n",
       "\n",
       "   Total Assetsin mil. US$  Employees companyName  \n",
       "0                      1.1        NaN      Amazon  \n",
       "1                      8.0        NaN      Amazon  \n",
       "2                    149.0      614.0      Amazon  \n",
       "3                    648.0     2100.0      Amazon  \n",
       "4                   2466.0     7600.0      Amazon  "
      ]
     },
     "execution_count": 44,
     "metadata": {},
     "output_type": "execute_result"
    }
   ],
   "source": [
    "df_amazon.head()"
   ]
  },
  {
   "cell_type": "code",
   "execution_count": 45,
   "id": "cd1b1c19",
   "metadata": {},
   "outputs": [],
   "source": [
    "df_amazon=df_amazon.rename(columns={'Revenue[151]in mil. US$':'Revenue','Net incomein mil. US$':'NetIncome'})"
   ]
  },
  {
   "cell_type": "code",
   "execution_count": 46,
   "id": "16febd82",
   "metadata": {},
   "outputs": [
    {
     "data": {
      "text/html": [
       "<div>\n",
       "<style scoped>\n",
       "    .dataframe tbody tr th:only-of-type {\n",
       "        vertical-align: middle;\n",
       "    }\n",
       "\n",
       "    .dataframe tbody tr th {\n",
       "        vertical-align: top;\n",
       "    }\n",
       "\n",
       "    .dataframe thead th {\n",
       "        text-align: right;\n",
       "    }\n",
       "</style>\n",
       "<table border=\"1\" class=\"dataframe\">\n",
       "  <thead>\n",
       "    <tr style=\"text-align: right;\">\n",
       "      <th></th>\n",
       "      <th>Year</th>\n",
       "      <th>Revenue</th>\n",
       "      <th>NetIncome</th>\n",
       "      <th>Total Assetsin mil. US$</th>\n",
       "      <th>Employees</th>\n",
       "      <th>companyName</th>\n",
       "    </tr>\n",
       "  </thead>\n",
       "  <tbody>\n",
       "    <tr>\n",
       "      <th>0</th>\n",
       "      <td>1995[152]</td>\n",
       "      <td>0.5</td>\n",
       "      <td>−0.3</td>\n",
       "      <td>1.1</td>\n",
       "      <td>NaN</td>\n",
       "      <td>Amazon</td>\n",
       "    </tr>\n",
       "    <tr>\n",
       "      <th>1</th>\n",
       "      <td>1996[152]</td>\n",
       "      <td>16.0</td>\n",
       "      <td>−6</td>\n",
       "      <td>8.0</td>\n",
       "      <td>NaN</td>\n",
       "      <td>Amazon</td>\n",
       "    </tr>\n",
       "    <tr>\n",
       "      <th>2</th>\n",
       "      <td>1997[152]</td>\n",
       "      <td>148.0</td>\n",
       "      <td>−28</td>\n",
       "      <td>149.0</td>\n",
       "      <td>614.0</td>\n",
       "      <td>Amazon</td>\n",
       "    </tr>\n",
       "    <tr>\n",
       "      <th>3</th>\n",
       "      <td>1998[153]</td>\n",
       "      <td>610.0</td>\n",
       "      <td>−124</td>\n",
       "      <td>648.0</td>\n",
       "      <td>2100.0</td>\n",
       "      <td>Amazon</td>\n",
       "    </tr>\n",
       "    <tr>\n",
       "      <th>4</th>\n",
       "      <td>1999[153]</td>\n",
       "      <td>1639.0</td>\n",
       "      <td>−720</td>\n",
       "      <td>2466.0</td>\n",
       "      <td>7600.0</td>\n",
       "      <td>Amazon</td>\n",
       "    </tr>\n",
       "    <tr>\n",
       "      <th>5</th>\n",
       "      <td>2000[153]</td>\n",
       "      <td>2761.0</td>\n",
       "      <td>−1,411</td>\n",
       "      <td>2135.0</td>\n",
       "      <td>9000.0</td>\n",
       "      <td>Amazon</td>\n",
       "    </tr>\n",
       "    <tr>\n",
       "      <th>6</th>\n",
       "      <td>2001[153]</td>\n",
       "      <td>3122.0</td>\n",
       "      <td>−567</td>\n",
       "      <td>1638.0</td>\n",
       "      <td>7800.0</td>\n",
       "      <td>Amazon</td>\n",
       "    </tr>\n",
       "    <tr>\n",
       "      <th>7</th>\n",
       "      <td>2002[153]</td>\n",
       "      <td>3932.0</td>\n",
       "      <td>−149</td>\n",
       "      <td>1990.0</td>\n",
       "      <td>7500.0</td>\n",
       "      <td>Amazon</td>\n",
       "    </tr>\n",
       "    <tr>\n",
       "      <th>8</th>\n",
       "      <td>2003[154]</td>\n",
       "      <td>5263.0</td>\n",
       "      <td>35</td>\n",
       "      <td>2162.0</td>\n",
       "      <td>7800.0</td>\n",
       "      <td>Amazon</td>\n",
       "    </tr>\n",
       "    <tr>\n",
       "      <th>9</th>\n",
       "      <td>2004[154]</td>\n",
       "      <td>6921.0</td>\n",
       "      <td>588</td>\n",
       "      <td>3248.0</td>\n",
       "      <td>9000.0</td>\n",
       "      <td>Amazon</td>\n",
       "    </tr>\n",
       "    <tr>\n",
       "      <th>10</th>\n",
       "      <td>2005[154]</td>\n",
       "      <td>8490.0</td>\n",
       "      <td>359</td>\n",
       "      <td>3696.0</td>\n",
       "      <td>12000.0</td>\n",
       "      <td>Amazon</td>\n",
       "    </tr>\n",
       "    <tr>\n",
       "      <th>11</th>\n",
       "      <td>2006[154]</td>\n",
       "      <td>10711.0</td>\n",
       "      <td>190</td>\n",
       "      <td>4363.0</td>\n",
       "      <td>13900.0</td>\n",
       "      <td>Amazon</td>\n",
       "    </tr>\n",
       "    <tr>\n",
       "      <th>12</th>\n",
       "      <td>2007[154]</td>\n",
       "      <td>14835.0</td>\n",
       "      <td>476</td>\n",
       "      <td>6485.0</td>\n",
       "      <td>17000.0</td>\n",
       "      <td>Amazon</td>\n",
       "    </tr>\n",
       "    <tr>\n",
       "      <th>13</th>\n",
       "      <td>2008[155]</td>\n",
       "      <td>19166.0</td>\n",
       "      <td>645</td>\n",
       "      <td>8314.0</td>\n",
       "      <td>20700.0</td>\n",
       "      <td>Amazon</td>\n",
       "    </tr>\n",
       "    <tr>\n",
       "      <th>14</th>\n",
       "      <td>2009[156]</td>\n",
       "      <td>24509.0</td>\n",
       "      <td>902</td>\n",
       "      <td>13813.0</td>\n",
       "      <td>24300.0</td>\n",
       "      <td>Amazon</td>\n",
       "    </tr>\n",
       "    <tr>\n",
       "      <th>15</th>\n",
       "      <td>2010[157]</td>\n",
       "      <td>34204.0</td>\n",
       "      <td>1152</td>\n",
       "      <td>18797.0</td>\n",
       "      <td>33700.0</td>\n",
       "      <td>Amazon</td>\n",
       "    </tr>\n",
       "    <tr>\n",
       "      <th>16</th>\n",
       "      <td>2011[158]</td>\n",
       "      <td>48077.0</td>\n",
       "      <td>631</td>\n",
       "      <td>25278.0</td>\n",
       "      <td>56200.0</td>\n",
       "      <td>Amazon</td>\n",
       "    </tr>\n",
       "    <tr>\n",
       "      <th>17</th>\n",
       "      <td>2012[159]</td>\n",
       "      <td>61093.0</td>\n",
       "      <td>−39</td>\n",
       "      <td>32555.0</td>\n",
       "      <td>88400.0</td>\n",
       "      <td>Amazon</td>\n",
       "    </tr>\n",
       "    <tr>\n",
       "      <th>18</th>\n",
       "      <td>2013[160]</td>\n",
       "      <td>74452.0</td>\n",
       "      <td>274</td>\n",
       "      <td>40159.0</td>\n",
       "      <td>117300.0</td>\n",
       "      <td>Amazon</td>\n",
       "    </tr>\n",
       "    <tr>\n",
       "      <th>19</th>\n",
       "      <td>2014[161]</td>\n",
       "      <td>88988.0</td>\n",
       "      <td>−241</td>\n",
       "      <td>54505.0</td>\n",
       "      <td>154100.0</td>\n",
       "      <td>Amazon</td>\n",
       "    </tr>\n",
       "    <tr>\n",
       "      <th>20</th>\n",
       "      <td>2015[162]</td>\n",
       "      <td>107006.0</td>\n",
       "      <td>596</td>\n",
       "      <td>64747.0</td>\n",
       "      <td>230800.0</td>\n",
       "      <td>Amazon</td>\n",
       "    </tr>\n",
       "    <tr>\n",
       "      <th>21</th>\n",
       "      <td>2016[163]</td>\n",
       "      <td>135987.0</td>\n",
       "      <td>2371</td>\n",
       "      <td>83402.0</td>\n",
       "      <td>341400.0</td>\n",
       "      <td>Amazon</td>\n",
       "    </tr>\n",
       "    <tr>\n",
       "      <th>22</th>\n",
       "      <td>2017[164]</td>\n",
       "      <td>177866.0</td>\n",
       "      <td>3033</td>\n",
       "      <td>131310.0</td>\n",
       "      <td>566000.0</td>\n",
       "      <td>Amazon</td>\n",
       "    </tr>\n",
       "    <tr>\n",
       "      <th>23</th>\n",
       "      <td>2018[165]</td>\n",
       "      <td>232887.0</td>\n",
       "      <td>10073</td>\n",
       "      <td>162648.0</td>\n",
       "      <td>647500.0</td>\n",
       "      <td>Amazon</td>\n",
       "    </tr>\n",
       "    <tr>\n",
       "      <th>24</th>\n",
       "      <td>2019[166]</td>\n",
       "      <td>280522.0</td>\n",
       "      <td>11588</td>\n",
       "      <td>225248.0</td>\n",
       "      <td>798000.0</td>\n",
       "      <td>Amazon</td>\n",
       "    </tr>\n",
       "    <tr>\n",
       "      <th>25</th>\n",
       "      <td>2020[167]</td>\n",
       "      <td>386064.0</td>\n",
       "      <td>21331</td>\n",
       "      <td>321195.0</td>\n",
       "      <td>1298000.0</td>\n",
       "      <td>Amazon</td>\n",
       "    </tr>\n",
       "    <tr>\n",
       "      <th>26</th>\n",
       "      <td>2021[1]</td>\n",
       "      <td>469822.0</td>\n",
       "      <td>33364</td>\n",
       "      <td>420549.0</td>\n",
       "      <td>1608000.0</td>\n",
       "      <td>Amazon</td>\n",
       "    </tr>\n",
       "    <tr>\n",
       "      <th>27</th>\n",
       "      <td>2022[1]</td>\n",
       "      <td>513983.0</td>\n",
       "      <td>−2,722</td>\n",
       "      <td>462675.0</td>\n",
       "      <td>1541000.0</td>\n",
       "      <td>Amazon</td>\n",
       "    </tr>\n",
       "  </tbody>\n",
       "</table>\n",
       "</div>"
      ],
      "text/plain": [
       "         Year   Revenue NetIncome  Total Assetsin mil. US$  Employees  \\\n",
       "0   1995[152]       0.5      −0.3                      1.1        NaN   \n",
       "1   1996[152]      16.0        −6                      8.0        NaN   \n",
       "2   1997[152]     148.0       −28                    149.0      614.0   \n",
       "3   1998[153]     610.0      −124                    648.0     2100.0   \n",
       "4   1999[153]    1639.0      −720                   2466.0     7600.0   \n",
       "5   2000[153]    2761.0    −1,411                   2135.0     9000.0   \n",
       "6   2001[153]    3122.0      −567                   1638.0     7800.0   \n",
       "7   2002[153]    3932.0      −149                   1990.0     7500.0   \n",
       "8   2003[154]    5263.0        35                   2162.0     7800.0   \n",
       "9   2004[154]    6921.0       588                   3248.0     9000.0   \n",
       "10  2005[154]    8490.0       359                   3696.0    12000.0   \n",
       "11  2006[154]   10711.0       190                   4363.0    13900.0   \n",
       "12  2007[154]   14835.0       476                   6485.0    17000.0   \n",
       "13  2008[155]   19166.0       645                   8314.0    20700.0   \n",
       "14  2009[156]   24509.0       902                  13813.0    24300.0   \n",
       "15  2010[157]   34204.0      1152                  18797.0    33700.0   \n",
       "16  2011[158]   48077.0       631                  25278.0    56200.0   \n",
       "17  2012[159]   61093.0       −39                  32555.0    88400.0   \n",
       "18  2013[160]   74452.0       274                  40159.0   117300.0   \n",
       "19  2014[161]   88988.0      −241                  54505.0   154100.0   \n",
       "20  2015[162]  107006.0       596                  64747.0   230800.0   \n",
       "21  2016[163]  135987.0      2371                  83402.0   341400.0   \n",
       "22  2017[164]  177866.0      3033                 131310.0   566000.0   \n",
       "23  2018[165]  232887.0     10073                 162648.0   647500.0   \n",
       "24  2019[166]  280522.0     11588                 225248.0   798000.0   \n",
       "25  2020[167]  386064.0     21331                 321195.0  1298000.0   \n",
       "26    2021[1]  469822.0     33364                 420549.0  1608000.0   \n",
       "27    2022[1]  513983.0    −2,722                 462675.0  1541000.0   \n",
       "\n",
       "   companyName  \n",
       "0       Amazon  \n",
       "1       Amazon  \n",
       "2       Amazon  \n",
       "3       Amazon  \n",
       "4       Amazon  \n",
       "5       Amazon  \n",
       "6       Amazon  \n",
       "7       Amazon  \n",
       "8       Amazon  \n",
       "9       Amazon  \n",
       "10      Amazon  \n",
       "11      Amazon  \n",
       "12      Amazon  \n",
       "13      Amazon  \n",
       "14      Amazon  \n",
       "15      Amazon  \n",
       "16      Amazon  \n",
       "17      Amazon  \n",
       "18      Amazon  \n",
       "19      Amazon  \n",
       "20      Amazon  \n",
       "21      Amazon  \n",
       "22      Amazon  \n",
       "23      Amazon  \n",
       "24      Amazon  \n",
       "25      Amazon  \n",
       "26      Amazon  \n",
       "27      Amazon  "
      ]
     },
     "execution_count": 46,
     "metadata": {},
     "output_type": "execute_result"
    }
   ],
   "source": [
    "df_amazon"
   ]
  },
  {
   "cell_type": "code",
   "execution_count": 47,
   "id": "c376ad52",
   "metadata": {},
   "outputs": [],
   "source": [
    "df_amazon[['Year','remove']]=df_amazon['Year'].str.split('[',expand = True)"
   ]
  },
  {
   "cell_type": "markdown",
   "id": "28a79cb6",
   "metadata": {},
   "source": [
    "# Costco"
   ]
  },
  {
   "cell_type": "code",
   "execution_count": 48,
   "id": "4ccd1d15",
   "metadata": {},
   "outputs": [],
   "source": [
    "df_costco=getdf('https://en.wikipedia.org/wiki/Costco','wikitable float-left')"
   ]
  },
  {
   "cell_type": "code",
   "execution_count": 49,
   "id": "dee7177f",
   "metadata": {},
   "outputs": [],
   "source": [
    "df_costco['companyName']='Costco'"
   ]
  },
  {
   "cell_type": "code",
   "execution_count": null,
   "id": "9ab5fc6a",
   "metadata": {},
   "outputs": [],
   "source": []
  },
  {
   "cell_type": "code",
   "execution_count": 50,
   "id": "a1b4dc2c",
   "metadata": {},
   "outputs": [],
   "source": [
    "df_costco=df_costco.rename(columns={'Revenuein mil. USD$':'Revenue','Net incomein mil. USD$':'NetIncome'})"
   ]
  },
  {
   "cell_type": "code",
   "execution_count": 51,
   "id": "d55b32b7",
   "metadata": {},
   "outputs": [
    {
     "data": {
      "text/html": [
       "<div>\n",
       "<style scoped>\n",
       "    .dataframe tbody tr th:only-of-type {\n",
       "        vertical-align: middle;\n",
       "    }\n",
       "\n",
       "    .dataframe tbody tr th {\n",
       "        vertical-align: top;\n",
       "    }\n",
       "\n",
       "    .dataframe thead th {\n",
       "        text-align: right;\n",
       "    }\n",
       "</style>\n",
       "<table border=\"1\" class=\"dataframe\">\n",
       "  <thead>\n",
       "    <tr style=\"text-align: right;\">\n",
       "      <th></th>\n",
       "      <th>Year</th>\n",
       "      <th>Revenue</th>\n",
       "      <th>NetIncome</th>\n",
       "      <th>Price per Sharein USD$ (year end)[61]</th>\n",
       "      <th>Warehouses</th>\n",
       "      <th>Employees</th>\n",
       "      <th>Ref(s)</th>\n",
       "      <th>companyName</th>\n",
       "    </tr>\n",
       "  </thead>\n",
       "  <tbody>\n",
       "    <tr>\n",
       "      <th>0</th>\n",
       "      <td>2005</td>\n",
       "      <td>52935</td>\n",
       "      <td>1063</td>\n",
       "      <td>34.96</td>\n",
       "      <td>433</td>\n",
       "      <td>115000</td>\n",
       "      <td>[62]</td>\n",
       "      <td>Costco</td>\n",
       "    </tr>\n",
       "    <tr>\n",
       "      <th>1</th>\n",
       "      <td>2006</td>\n",
       "      <td>60151</td>\n",
       "      <td>1103</td>\n",
       "      <td>37.73</td>\n",
       "      <td>458</td>\n",
       "      <td>127000</td>\n",
       "      <td>[63]</td>\n",
       "      <td>Costco</td>\n",
       "    </tr>\n",
       "    <tr>\n",
       "      <th>2</th>\n",
       "      <td>2007</td>\n",
       "      <td>64400</td>\n",
       "      <td>1083</td>\n",
       "      <td>50.26</td>\n",
       "      <td>488</td>\n",
       "      <td>127000</td>\n",
       "      <td>[64]</td>\n",
       "      <td>Costco</td>\n",
       "    </tr>\n",
       "    <tr>\n",
       "      <th>3</th>\n",
       "      <td>2008</td>\n",
       "      <td>72483</td>\n",
       "      <td>1283</td>\n",
       "      <td>38.20</td>\n",
       "      <td>512</td>\n",
       "      <td>137000</td>\n",
       "      <td>[65]</td>\n",
       "      <td>Costco</td>\n",
       "    </tr>\n",
       "    <tr>\n",
       "      <th>4</th>\n",
       "      <td>2009</td>\n",
       "      <td>71422</td>\n",
       "      <td>1086</td>\n",
       "      <td>43.68</td>\n",
       "      <td>527</td>\n",
       "      <td>142000</td>\n",
       "      <td>[66]</td>\n",
       "      <td>Costco</td>\n",
       "    </tr>\n",
       "    <tr>\n",
       "      <th>5</th>\n",
       "      <td>2010</td>\n",
       "      <td>77946</td>\n",
       "      <td>1303</td>\n",
       "      <td>54.02</td>\n",
       "      <td>540</td>\n",
       "      <td>147000</td>\n",
       "      <td>[67]</td>\n",
       "      <td>Costco</td>\n",
       "    </tr>\n",
       "    <tr>\n",
       "      <th>6</th>\n",
       "      <td>2011</td>\n",
       "      <td>88915</td>\n",
       "      <td>1462</td>\n",
       "      <td>63.06</td>\n",
       "      <td>592</td>\n",
       "      <td>164000</td>\n",
       "      <td>[68]</td>\n",
       "      <td>Costco</td>\n",
       "    </tr>\n",
       "    <tr>\n",
       "      <th>7</th>\n",
       "      <td>2012</td>\n",
       "      <td>99137</td>\n",
       "      <td>1709</td>\n",
       "      <td>80.99</td>\n",
       "      <td>608</td>\n",
       "      <td>174000</td>\n",
       "      <td>[69]</td>\n",
       "      <td>Costco</td>\n",
       "    </tr>\n",
       "    <tr>\n",
       "      <th>8</th>\n",
       "      <td>2013</td>\n",
       "      <td>105156</td>\n",
       "      <td>2039</td>\n",
       "      <td>98.67</td>\n",
       "      <td>634</td>\n",
       "      <td>184000</td>\n",
       "      <td>[70]</td>\n",
       "      <td>Costco</td>\n",
       "    </tr>\n",
       "    <tr>\n",
       "      <th>9</th>\n",
       "      <td>2014</td>\n",
       "      <td>112640</td>\n",
       "      <td>2058</td>\n",
       "      <td>118.86</td>\n",
       "      <td>663</td>\n",
       "      <td>195000</td>\n",
       "      <td>[71]</td>\n",
       "      <td>Costco</td>\n",
       "    </tr>\n",
       "    <tr>\n",
       "      <th>10</th>\n",
       "      <td>2015</td>\n",
       "      <td>116199</td>\n",
       "      <td>2377</td>\n",
       "      <td>141.43</td>\n",
       "      <td>686</td>\n",
       "      <td>205000</td>\n",
       "      <td>[72]</td>\n",
       "      <td>Costco</td>\n",
       "    </tr>\n",
       "    <tr>\n",
       "      <th>11</th>\n",
       "      <td>2016</td>\n",
       "      <td>118719</td>\n",
       "      <td>2350</td>\n",
       "      <td>141.82</td>\n",
       "      <td>715</td>\n",
       "      <td>218000</td>\n",
       "      <td>[73]</td>\n",
       "      <td>Costco</td>\n",
       "    </tr>\n",
       "    <tr>\n",
       "      <th>12</th>\n",
       "      <td>2017</td>\n",
       "      <td>129025</td>\n",
       "      <td>2679</td>\n",
       "      <td>173.55</td>\n",
       "      <td>741</td>\n",
       "      <td>231000</td>\n",
       "      <td>[73]</td>\n",
       "      <td>Costco</td>\n",
       "    </tr>\n",
       "    <tr>\n",
       "      <th>13</th>\n",
       "      <td>2018</td>\n",
       "      <td>141576</td>\n",
       "      <td>3134</td>\n",
       "      <td>191.93</td>\n",
       "      <td>768</td>\n",
       "      <td>245000</td>\n",
       "      <td>[31]</td>\n",
       "      <td>Costco</td>\n",
       "    </tr>\n",
       "    <tr>\n",
       "      <th>14</th>\n",
       "      <td>2019</td>\n",
       "      <td>152703</td>\n",
       "      <td>3659</td>\n",
       "      <td>279.64</td>\n",
       "      <td>782</td>\n",
       "      <td>254000</td>\n",
       "      <td>[33]</td>\n",
       "      <td>Costco</td>\n",
       "    </tr>\n",
       "    <tr>\n",
       "      <th>15</th>\n",
       "      <td>2020</td>\n",
       "      <td>166761</td>\n",
       "      <td>4002</td>\n",
       "      <td>370.85</td>\n",
       "      <td>795</td>\n",
       "      <td>273000</td>\n",
       "      <td>[34]</td>\n",
       "      <td>Costco</td>\n",
       "    </tr>\n",
       "    <tr>\n",
       "      <th>16</th>\n",
       "      <td>2021</td>\n",
       "      <td>195929</td>\n",
       "      <td>5007</td>\n",
       "      <td>563.00</td>\n",
       "      <td>815</td>\n",
       "      <td>288000</td>\n",
       "      <td>[35]</td>\n",
       "      <td>Costco</td>\n",
       "    </tr>\n",
       "    <tr>\n",
       "      <th>17</th>\n",
       "      <td>2022</td>\n",
       "      <td>226954</td>\n",
       "      <td>5844</td>\n",
       "      <td>455.72</td>\n",
       "      <td>838</td>\n",
       "      <td>304000</td>\n",
       "      <td>[3]</td>\n",
       "      <td>Costco</td>\n",
       "    </tr>\n",
       "  </tbody>\n",
       "</table>\n",
       "</div>"
      ],
      "text/plain": [
       "    Year  Revenue  NetIncome  Price per Sharein USD$ (year end)[61]  \\\n",
       "0   2005    52935       1063                                  34.96   \n",
       "1   2006    60151       1103                                  37.73   \n",
       "2   2007    64400       1083                                  50.26   \n",
       "3   2008    72483       1283                                  38.20   \n",
       "4   2009    71422       1086                                  43.68   \n",
       "5   2010    77946       1303                                  54.02   \n",
       "6   2011    88915       1462                                  63.06   \n",
       "7   2012    99137       1709                                  80.99   \n",
       "8   2013   105156       2039                                  98.67   \n",
       "9   2014   112640       2058                                 118.86   \n",
       "10  2015   116199       2377                                 141.43   \n",
       "11  2016   118719       2350                                 141.82   \n",
       "12  2017   129025       2679                                 173.55   \n",
       "13  2018   141576       3134                                 191.93   \n",
       "14  2019   152703       3659                                 279.64   \n",
       "15  2020   166761       4002                                 370.85   \n",
       "16  2021   195929       5007                                 563.00   \n",
       "17  2022   226954       5844                                 455.72   \n",
       "\n",
       "    Warehouses  Employees Ref(s) companyName  \n",
       "0          433     115000   [62]      Costco  \n",
       "1          458     127000   [63]      Costco  \n",
       "2          488     127000   [64]      Costco  \n",
       "3          512     137000   [65]      Costco  \n",
       "4          527     142000   [66]      Costco  \n",
       "5          540     147000   [67]      Costco  \n",
       "6          592     164000   [68]      Costco  \n",
       "7          608     174000   [69]      Costco  \n",
       "8          634     184000   [70]      Costco  \n",
       "9          663     195000   [71]      Costco  \n",
       "10         686     205000   [72]      Costco  \n",
       "11         715     218000   [73]      Costco  \n",
       "12         741     231000   [73]      Costco  \n",
       "13         768     245000   [31]      Costco  \n",
       "14         782     254000   [33]      Costco  \n",
       "15         795     273000   [34]      Costco  \n",
       "16         815     288000   [35]      Costco  \n",
       "17         838     304000    [3]      Costco  "
      ]
     },
     "execution_count": 51,
     "metadata": {},
     "output_type": "execute_result"
    }
   ],
   "source": [
    "df_costco"
   ]
  },
  {
   "cell_type": "markdown",
   "id": "0589b4e1",
   "metadata": {},
   "source": [
    "# Homedepot"
   ]
  },
  {
   "cell_type": "code",
   "execution_count": 52,
   "id": "8ec522c1",
   "metadata": {},
   "outputs": [],
   "source": [
    "df_homedepot=getdf('https://en.wikipedia.org/wiki/The_Home_Depot','wikitable float-left')"
   ]
  },
  {
   "cell_type": "code",
   "execution_count": 53,
   "id": "5e673b6c",
   "metadata": {},
   "outputs": [
    {
     "data": {
      "text/html": [
       "<div>\n",
       "<style scoped>\n",
       "    .dataframe tbody tr th:only-of-type {\n",
       "        vertical-align: middle;\n",
       "    }\n",
       "\n",
       "    .dataframe tbody tr th {\n",
       "        vertical-align: top;\n",
       "    }\n",
       "\n",
       "    .dataframe thead th {\n",
       "        text-align: right;\n",
       "    }\n",
       "</style>\n",
       "<table border=\"1\" class=\"dataframe\">\n",
       "  <thead>\n",
       "    <tr style=\"text-align: right;\">\n",
       "      <th></th>\n",
       "      <th>Year</th>\n",
       "      <th>Revenuein mil. USD$</th>\n",
       "      <th>Net Incomein mil. USD$</th>\n",
       "      <th>Price per Sharein US$</th>\n",
       "      <th>Employees</th>\n",
       "      <th>Stores</th>\n",
       "    </tr>\n",
       "  </thead>\n",
       "  <tbody>\n",
       "    <tr>\n",
       "      <th>0</th>\n",
       "      <td>2005</td>\n",
       "      <td>73094</td>\n",
       "      <td>5001.0</td>\n",
       "      <td>29.12</td>\n",
       "      <td>325000.0</td>\n",
       "      <td>1890.0</td>\n",
       "    </tr>\n",
       "    <tr>\n",
       "      <th>1</th>\n",
       "      <td>2006</td>\n",
       "      <td>77019</td>\n",
       "      <td>5838.0</td>\n",
       "      <td>28.12</td>\n",
       "      <td>345000.0</td>\n",
       "      <td>2042.0</td>\n",
       "    </tr>\n",
       "    <tr>\n",
       "      <th>2</th>\n",
       "      <td>2007</td>\n",
       "      <td>79022</td>\n",
       "      <td>5761.0</td>\n",
       "      <td>27.10</td>\n",
       "      <td>364000.0</td>\n",
       "      <td>2147.0</td>\n",
       "    </tr>\n",
       "    <tr>\n",
       "      <th>3</th>\n",
       "      <td>2008</td>\n",
       "      <td>77349</td>\n",
       "      <td>4395.0</td>\n",
       "      <td>19.86</td>\n",
       "      <td>331000.0</td>\n",
       "      <td>2234.0</td>\n",
       "    </tr>\n",
       "    <tr>\n",
       "      <th>4</th>\n",
       "      <td>2009</td>\n",
       "      <td>71288</td>\n",
       "      <td>2260.0</td>\n",
       "      <td>20.14</td>\n",
       "      <td>322000.0</td>\n",
       "      <td>2233.0</td>\n",
       "    </tr>\n",
       "  </tbody>\n",
       "</table>\n",
       "</div>"
      ],
      "text/plain": [
       "   Year  Revenuein mil. USD$  Net Incomein mil. USD$  Price per Sharein US$  \\\n",
       "0  2005                73094                  5001.0                  29.12   \n",
       "1  2006                77019                  5838.0                  28.12   \n",
       "2  2007                79022                  5761.0                  27.10   \n",
       "3  2008                77349                  4395.0                  19.86   \n",
       "4  2009                71288                  2260.0                  20.14   \n",
       "\n",
       "   Employees  Stores  \n",
       "0   325000.0  1890.0  \n",
       "1   345000.0  2042.0  \n",
       "2   364000.0  2147.0  \n",
       "3   331000.0  2234.0  \n",
       "4   322000.0  2233.0  "
      ]
     },
     "execution_count": 53,
     "metadata": {},
     "output_type": "execute_result"
    }
   ],
   "source": [
    "df_homedepot.head()"
   ]
  },
  {
   "cell_type": "code",
   "execution_count": 54,
   "id": "c750e01e",
   "metadata": {},
   "outputs": [],
   "source": [
    "df_homedepot=df_homedepot.rename(columns={'Revenuein mil. USD$':'Revenue','Net Incomein mil. USD$':'NetIncome'})"
   ]
  },
  {
   "cell_type": "code",
   "execution_count": 55,
   "id": "1dcb3416",
   "metadata": {},
   "outputs": [],
   "source": [
    "df_homedepot['companyName']='HomeDepot'"
   ]
  },
  {
   "cell_type": "markdown",
   "id": "f42fce16",
   "metadata": {},
   "source": [
    "# Kroger"
   ]
  },
  {
   "cell_type": "code",
   "execution_count": 56,
   "id": "b0d2768e",
   "metadata": {},
   "outputs": [],
   "source": [
    "df_kroger=getdf('https://en.wikipedia.org/wiki/Kroger','wikitable float-left')"
   ]
  },
  {
   "cell_type": "code",
   "execution_count": 57,
   "id": "3b4b20ef",
   "metadata": {},
   "outputs": [
    {
     "data": {
      "text/html": [
       "<div>\n",
       "<style scoped>\n",
       "    .dataframe tbody tr th:only-of-type {\n",
       "        vertical-align: middle;\n",
       "    }\n",
       "\n",
       "    .dataframe tbody tr th {\n",
       "        vertical-align: top;\n",
       "    }\n",
       "\n",
       "    .dataframe thead th {\n",
       "        text-align: right;\n",
       "    }\n",
       "</style>\n",
       "<table border=\"1\" class=\"dataframe\">\n",
       "  <thead>\n",
       "    <tr style=\"text-align: right;\">\n",
       "      <th></th>\n",
       "      <th>Year</th>\n",
       "      <th>Revenuein mil. US$</th>\n",
       "      <th>Net incomein mil. US$</th>\n",
       "      <th>Total Assetsin mil. US$</th>\n",
       "      <th>Price per Sharein US$</th>\n",
       "      <th>Employees</th>\n",
       "      <th>Supermarkets</th>\n",
       "      <th>C-stores</th>\n",
       "      <th>Jewelers</th>\n",
       "      <th>Total stores</th>\n",
       "    </tr>\n",
       "  </thead>\n",
       "  <tbody>\n",
       "    <tr>\n",
       "      <th>0</th>\n",
       "      <td>2006</td>\n",
       "      <td>60553</td>\n",
       "      <td>958</td>\n",
       "      <td>20482</td>\n",
       "      <td>10.64</td>\n",
       "      <td>290000</td>\n",
       "      <td>2507</td>\n",
       "      <td>791.0</td>\n",
       "      <td>428</td>\n",
       "      <td>3726</td>\n",
       "    </tr>\n",
       "    <tr>\n",
       "      <th>1</th>\n",
       "      <td>2007</td>\n",
       "      <td>66111</td>\n",
       "      <td>1115</td>\n",
       "      <td>21215</td>\n",
       "      <td>13.79</td>\n",
       "      <td>310000</td>\n",
       "      <td>2468</td>\n",
       "      <td>779.0</td>\n",
       "      <td>412</td>\n",
       "      <td>3659</td>\n",
       "    </tr>\n",
       "    <tr>\n",
       "      <th>2</th>\n",
       "      <td>2008</td>\n",
       "      <td>70336</td>\n",
       "      <td>1209</td>\n",
       "      <td>22293</td>\n",
       "      <td>13.36</td>\n",
       "      <td>323000</td>\n",
       "      <td>2486</td>\n",
       "      <td>782.0</td>\n",
       "      <td>394</td>\n",
       "      <td>3662</td>\n",
       "    </tr>\n",
       "    <tr>\n",
       "      <th>3</th>\n",
       "      <td>2009</td>\n",
       "      <td>76148</td>\n",
       "      <td>1249</td>\n",
       "      <td>23257</td>\n",
       "      <td>10.98</td>\n",
       "      <td>326000</td>\n",
       "      <td>2481</td>\n",
       "      <td>771.0</td>\n",
       "      <td>385</td>\n",
       "      <td>3637</td>\n",
       "    </tr>\n",
       "    <tr>\n",
       "      <th>4</th>\n",
       "      <td>2010</td>\n",
       "      <td>76609</td>\n",
       "      <td>70</td>\n",
       "      <td>23126</td>\n",
       "      <td>10.77</td>\n",
       "      <td>334000</td>\n",
       "      <td>2468</td>\n",
       "      <td>777.0</td>\n",
       "      <td>374</td>\n",
       "      <td>3619</td>\n",
       "    </tr>\n",
       "  </tbody>\n",
       "</table>\n",
       "</div>"
      ],
      "text/plain": [
       "   Year  Revenuein mil. US$  Net incomein mil. US$  Total Assetsin mil. US$  \\\n",
       "0  2006               60553                    958                    20482   \n",
       "1  2007               66111                   1115                    21215   \n",
       "2  2008               70336                   1209                    22293   \n",
       "3  2009               76148                   1249                    23257   \n",
       "4  2010               76609                     70                    23126   \n",
       "\n",
       "   Price per Sharein US$  Employees  Supermarkets  C-stores  Jewelers  \\\n",
       "0                  10.64     290000          2507     791.0       428   \n",
       "1                  13.79     310000          2468     779.0       412   \n",
       "2                  13.36     323000          2486     782.0       394   \n",
       "3                  10.98     326000          2481     771.0       385   \n",
       "4                  10.77     334000          2468     777.0       374   \n",
       "\n",
       "   Total stores  \n",
       "0          3726  \n",
       "1          3659  \n",
       "2          3662  \n",
       "3          3637  \n",
       "4          3619  "
      ]
     },
     "execution_count": 57,
     "metadata": {},
     "output_type": "execute_result"
    }
   ],
   "source": [
    "df_kroger.head()"
   ]
  },
  {
   "cell_type": "code",
   "execution_count": 58,
   "id": "6ccc8ecd",
   "metadata": {},
   "outputs": [],
   "source": [
    "df_kroger['companyName']='Kroger'"
   ]
  },
  {
   "cell_type": "code",
   "execution_count": 59,
   "id": "814f24b6",
   "metadata": {},
   "outputs": [],
   "source": [
    "df_kroger=df_kroger.rename(columns={'Revenuein mil. US$':'Revenue','Net incomein mil. US$':'NetIncome'})"
   ]
  },
  {
   "cell_type": "code",
   "execution_count": 60,
   "id": "b4e57e9c",
   "metadata": {},
   "outputs": [
    {
     "data": {
      "text/html": [
       "<div>\n",
       "<style scoped>\n",
       "    .dataframe tbody tr th:only-of-type {\n",
       "        vertical-align: middle;\n",
       "    }\n",
       "\n",
       "    .dataframe tbody tr th {\n",
       "        vertical-align: top;\n",
       "    }\n",
       "\n",
       "    .dataframe thead th {\n",
       "        text-align: right;\n",
       "    }\n",
       "</style>\n",
       "<table border=\"1\" class=\"dataframe\">\n",
       "  <thead>\n",
       "    <tr style=\"text-align: right;\">\n",
       "      <th></th>\n",
       "      <th>Year</th>\n",
       "      <th>Revenue</th>\n",
       "      <th>NetIncome</th>\n",
       "      <th>Total Assetsin mil. US$</th>\n",
       "      <th>Price per Sharein US$</th>\n",
       "      <th>Employees</th>\n",
       "      <th>Supermarkets</th>\n",
       "      <th>C-stores</th>\n",
       "      <th>Jewelers</th>\n",
       "      <th>Total stores</th>\n",
       "      <th>companyName</th>\n",
       "    </tr>\n",
       "  </thead>\n",
       "  <tbody>\n",
       "    <tr>\n",
       "      <th>0</th>\n",
       "      <td>2006</td>\n",
       "      <td>60553</td>\n",
       "      <td>958</td>\n",
       "      <td>20482</td>\n",
       "      <td>10.64</td>\n",
       "      <td>290000</td>\n",
       "      <td>2507</td>\n",
       "      <td>791.0</td>\n",
       "      <td>428</td>\n",
       "      <td>3726</td>\n",
       "      <td>Kroger</td>\n",
       "    </tr>\n",
       "    <tr>\n",
       "      <th>1</th>\n",
       "      <td>2007</td>\n",
       "      <td>66111</td>\n",
       "      <td>1115</td>\n",
       "      <td>21215</td>\n",
       "      <td>13.79</td>\n",
       "      <td>310000</td>\n",
       "      <td>2468</td>\n",
       "      <td>779.0</td>\n",
       "      <td>412</td>\n",
       "      <td>3659</td>\n",
       "      <td>Kroger</td>\n",
       "    </tr>\n",
       "    <tr>\n",
       "      <th>2</th>\n",
       "      <td>2008</td>\n",
       "      <td>70336</td>\n",
       "      <td>1209</td>\n",
       "      <td>22293</td>\n",
       "      <td>13.36</td>\n",
       "      <td>323000</td>\n",
       "      <td>2486</td>\n",
       "      <td>782.0</td>\n",
       "      <td>394</td>\n",
       "      <td>3662</td>\n",
       "      <td>Kroger</td>\n",
       "    </tr>\n",
       "    <tr>\n",
       "      <th>3</th>\n",
       "      <td>2009</td>\n",
       "      <td>76148</td>\n",
       "      <td>1249</td>\n",
       "      <td>23257</td>\n",
       "      <td>10.98</td>\n",
       "      <td>326000</td>\n",
       "      <td>2481</td>\n",
       "      <td>771.0</td>\n",
       "      <td>385</td>\n",
       "      <td>3637</td>\n",
       "      <td>Kroger</td>\n",
       "    </tr>\n",
       "    <tr>\n",
       "      <th>4</th>\n",
       "      <td>2010</td>\n",
       "      <td>76609</td>\n",
       "      <td>70</td>\n",
       "      <td>23126</td>\n",
       "      <td>10.77</td>\n",
       "      <td>334000</td>\n",
       "      <td>2468</td>\n",
       "      <td>777.0</td>\n",
       "      <td>374</td>\n",
       "      <td>3619</td>\n",
       "      <td>Kroger</td>\n",
       "    </tr>\n",
       "  </tbody>\n",
       "</table>\n",
       "</div>"
      ],
      "text/plain": [
       "   Year  Revenue  NetIncome  Total Assetsin mil. US$  Price per Sharein US$  \\\n",
       "0  2006    60553        958                    20482                  10.64   \n",
       "1  2007    66111       1115                    21215                  13.79   \n",
       "2  2008    70336       1209                    22293                  13.36   \n",
       "3  2009    76148       1249                    23257                  10.98   \n",
       "4  2010    76609         70                    23126                  10.77   \n",
       "\n",
       "   Employees  Supermarkets  C-stores  Jewelers  Total stores companyName  \n",
       "0     290000          2507     791.0       428          3726      Kroger  \n",
       "1     310000          2468     779.0       412          3659      Kroger  \n",
       "2     323000          2486     782.0       394          3662      Kroger  \n",
       "3     326000          2481     771.0       385          3637      Kroger  \n",
       "4     334000          2468     777.0       374          3619      Kroger  "
      ]
     },
     "execution_count": 60,
     "metadata": {},
     "output_type": "execute_result"
    }
   ],
   "source": [
    "df_kroger.head()"
   ]
  },
  {
   "cell_type": "code",
   "execution_count": 61,
   "id": "b251b7bc",
   "metadata": {},
   "outputs": [
    {
     "data": {
      "text/plain": [
       "Index(['Year', 'Revenue', 'NetIncome', 'Price per Sharein US$', 'Employees',\n",
       "       'Stores', 'companyName'],\n",
       "      dtype='object')"
      ]
     },
     "execution_count": 61,
     "metadata": {},
     "output_type": "execute_result"
    }
   ],
   "source": [
    "df_homedepot.columns"
   ]
  },
  {
   "cell_type": "code",
   "execution_count": 62,
   "id": "d49f7120",
   "metadata": {},
   "outputs": [
    {
     "data": {
      "text/plain": [
       "Index(['Year', 'Revenue', 'NetIncome', 'Total Assetsin mil. US$',\n",
       "       'Price perShare (US$)', 'Employees', 'Stores', 'companyName', 'remove'],\n",
       "      dtype='object')"
      ]
     },
     "execution_count": 62,
     "metadata": {},
     "output_type": "execute_result"
    }
   ],
   "source": [
    "df_walmart.columns"
   ]
  },
  {
   "cell_type": "code",
   "execution_count": 63,
   "id": "e2760ec1",
   "metadata": {},
   "outputs": [
    {
     "data": {
      "text/plain": [
       "Index(['Year', 'Revenue', 'NetIncome', 'Price per Sharein USD$ (year end)[61]',\n",
       "       'Warehouses', 'Employees', 'Ref(s)', 'companyName'],\n",
       "      dtype='object')"
      ]
     },
     "execution_count": 63,
     "metadata": {},
     "output_type": "execute_result"
    }
   ],
   "source": [
    "df_costco.columns"
   ]
  },
  {
   "cell_type": "code",
   "execution_count": 64,
   "id": "18b1b2fe",
   "metadata": {},
   "outputs": [
    {
     "data": {
      "text/plain": [
       "Index(['Year', 'Revenue', 'NetIncome', 'Total Assetsin mil. US$', 'Employees',\n",
       "       'companyName', 'remove'],\n",
       "      dtype='object')"
      ]
     },
     "execution_count": 64,
     "metadata": {},
     "output_type": "execute_result"
    }
   ],
   "source": [
    "df_amazon.columns"
   ]
  },
  {
   "cell_type": "code",
   "execution_count": 65,
   "id": "00ec2998",
   "metadata": {},
   "outputs": [
    {
     "data": {
      "text/plain": [
       "Index(['Year', 'Revenue', 'NetIncome', 'Total Assetsin mil. US$',\n",
       "       'Price per Sharein US$', 'Employees', 'Supermarkets', 'C-stores',\n",
       "       'Jewelers', 'Total stores', 'companyName'],\n",
       "      dtype='object')"
      ]
     },
     "execution_count": 65,
     "metadata": {},
     "output_type": "execute_result"
    }
   ],
   "source": [
    "df_kroger.columns"
   ]
  },
  {
   "cell_type": "markdown",
   "id": "1de2f251",
   "metadata": {},
   "source": [
    "# concat"
   ]
  },
  {
   "cell_type": "code",
   "execution_count": 75,
   "id": "5ce2db11",
   "metadata": {},
   "outputs": [],
   "source": [
    "df_concat=pd.concat([df_walmart[['Year', 'Revenue', 'NetIncome','companyName']],df_amazon[['Year', 'Revenue', 'NetIncome','companyName']],\n",
    "                   df_costco[['Year', 'Revenue', 'NetIncome','companyName']],df_homedepot[['Year', 'Revenue', 'NetIncome','companyName']],\n",
    "                   df_kroger[['Year', 'Revenue', 'NetIncome','companyName']]]).reset_index()"
   ]
  },
  {
   "cell_type": "code",
   "execution_count": 87,
   "id": "e61d76bf",
   "metadata": {},
   "outputs": [
    {
     "data": {
      "text/plain": [
       "array([1.26187540e+01, 2.13650810e+01, 3.08626590e+01, 4.42860120e+01,\n",
       "       7.80141640e+01, 1.24889141e+02, 1.67560892e+02, 2.36208880e+02,\n",
       "       3.40331000e+02, 4.78807000e+02, 6.78456000e+02, 9.00298000e+02,\n",
       "       1.24897600e+03, 1.64319900e+03, 2.44499700e+03, 3.37625200e+03,\n",
       "       4.66690900e+03, 6.40086100e+03, 8.45148900e+03, 1.19090760e+04,\n",
       "       1.59592550e+04, 2.06490010e+04, 2.58106560e+04, 3.26015940e+04,\n",
       "       4.38869020e+04, 5.54837710e+04, 6.73445740e+04, 8.24940000e+04,\n",
       "       9.36270000e+04, 1.04859000e+05, 1.17958000e+05, 1.37634000e+05,\n",
       "       1.65013000e+05, 1.91329000e+05, 2.04011000e+05, 2.29616000e+05,\n",
       "       2.56329000e+05, 2.84310000e+05, 3.12101000e+05, 3.48368000e+05,\n",
       "       3.77023000e+05, 4.04254000e+05, 4.08085000e+05, 4.21849000e+05,\n",
       "       4.46509000e+05, 4.68651000e+05, 4.76294000e+05, 4.85651000e+05,\n",
       "       4.82130000e+05, 4.85873000e+05, 5.00343000e+05, 5.14405000e+05,\n",
       "       5.23964000e+05, 5.59151000e+05, 5.00000000e-01, 1.60000000e+01,\n",
       "       1.48000000e+02, 6.10000000e+02, 1.63900000e+03, 2.76100000e+03,\n",
       "       3.12200000e+03, 3.93200000e+03, 5.26300000e+03, 6.92100000e+03,\n",
       "       8.49000000e+03, 1.07110000e+04, 1.48350000e+04, 1.91660000e+04,\n",
       "       2.45090000e+04, 3.42040000e+04, 4.80770000e+04, 6.10930000e+04,\n",
       "       7.44520000e+04, 8.89880000e+04, 1.07006000e+05, 1.35987000e+05,\n",
       "       1.77866000e+05, 2.32887000e+05, 2.80522000e+05, 3.86064000e+05,\n",
       "       4.69822000e+05, 5.13983000e+05, 5.29350000e+04, 6.01510000e+04,\n",
       "       6.44000000e+04, 7.24830000e+04, 7.14220000e+04, 7.79460000e+04,\n",
       "       8.89150000e+04, 9.91370000e+04, 1.05156000e+05, 1.12640000e+05,\n",
       "       1.16199000e+05, 1.18719000e+05, 1.29025000e+05, 1.41576000e+05,\n",
       "       1.52703000e+05, 1.66761000e+05, 1.95929000e+05, 2.26954000e+05,\n",
       "       7.30940000e+04, 7.70190000e+04, 7.90220000e+04, 7.73490000e+04,\n",
       "       7.12880000e+04, 6.61760000e+04, 6.79970000e+04, 7.03950000e+04,\n",
       "       7.47540000e+04, 7.88120000e+04, 8.31760000e+04, 8.85190000e+04,\n",
       "       9.45950000e+04, 1.00904000e+05, 1.08203000e+05, 1.10225000e+05,\n",
       "       6.05530000e+04, 6.61110000e+04, 7.03360000e+04, 7.61480000e+04,\n",
       "       7.66090000e+04, 8.20490000e+04, 9.02690000e+04, 9.66190000e+04,\n",
       "       9.83750000e+04, 1.08465000e+05, 1.09830000e+05, 1.15337000e+05,\n",
       "       1.22662000e+05, 1.21852000e+05, 1.22286000e+05])"
      ]
     },
     "execution_count": 87,
     "metadata": {},
     "output_type": "execute_result"
    }
   ],
   "source": [
    "df_concat.Revenue.unique()"
   ]
  },
  {
   "cell_type": "code",
   "execution_count": 88,
   "id": "7c9a7bcd",
   "metadata": {},
   "outputs": [
    {
     "data": {
      "text/plain": [
       "'Walmart mean: 173830.04091820368'"
      ]
     },
     "metadata": {},
     "output_type": "display_data"
    },
    {
     "data": {
      "text/plain": [
       "'Amazon mean: 96895.51785714286'"
      ]
     },
     "metadata": {},
     "output_type": "display_data"
    },
    {
     "data": {
      "text/plain": [
       "'Walmart sd: 197430.9409472688'"
      ]
     },
     "metadata": {},
     "output_type": "display_data"
    },
    {
     "data": {
      "text/plain": [
       "'Amazon sd: 147540.5718922314'"
      ]
     },
     "metadata": {},
     "output_type": "display_data"
    },
    {
     "data": {
      "text/plain": [
       "Ttest_indResult(statistic=1.8139079016060253, pvalue=0.07344139220964467)"
      ]
     },
     "metadata": {},
     "output_type": "display_data"
    },
    {
     "data": {
      "image/png": "[encoded data removed]",
      "text/plain": [
       "<Figure size 443.125x360 with 1 Axes>"
      ]
     },
     "metadata": {
      "needs_background": "light"
     },
     "output_type": "display_data"
    }
   ],
   "source": [
    "sns.displot(data=df_concat[df_concat.companyName.isin(['Walmart','Amazon'])], x='Revenue', hue='companyName', kind='kde',common_norm=False)\n",
    "\n",
    "display(f'Walmart mean: {df_concat[df_concat.companyName==\"Walmart\"].Revenue.mean()}')\n",
    "display(f'Amazon mean: {df_concat[df_concat.companyName==\"Amazon\"].Revenue.mean()}')\n",
    "display(f'Walmart sd: {df_concat[df_concat.companyName==\"Walmart\"].Revenue.std()}')\n",
    "display(f'Amazon sd: {df_concat[df_concat.companyName==\"Amazon\"].Revenue.std()}')\n",
    "\n",
    "display(stats.ttest_ind(df_concat[df_concat.companyName == 'Walmart'].Revenue, df_concat[df_concat.companyName == 'Amazon'].Revenue))"
   ]
  },
  {
   "cell_type": "code",
   "execution_count": 89,
   "id": "6a20eac2",
   "metadata": {},
   "outputs": [
    {
     "data": {
      "text/plain": [
       "'HomeDepot mean: 82595.5'"
      ]
     },
     "metadata": {},
     "output_type": "display_data"
    },
    {
     "data": {
      "text/plain": [
       "'Kroger mean: 94500.06666666667'"
      ]
     },
     "metadata": {},
     "output_type": "display_data"
    },
    {
     "data": {
      "text/plain": [
       "'HomeDepot sd: 13977.722236950243'"
      ]
     },
     "metadata": {},
     "output_type": "display_data"
    },
    {
     "data": {
      "text/plain": [
       "'Kroger sd: 21661.443687762257'"
      ]
     },
     "metadata": {},
     "output_type": "display_data"
    },
    {
     "data": {
      "text/plain": [
       "Ttest_indResult(statistic=-1.8301315576922594, pvalue=0.07752687954488446)"
      ]
     },
     "metadata": {},
     "output_type": "display_data"
    },
    {
     "data": {
      "image/png": "[encoded data removed]",
      "text/plain": [
       "<Figure size 455.25x360 with 1 Axes>"
      ]
     },
     "metadata": {
      "needs_background": "light"
     },
     "output_type": "display_data"
    }
   ],
   "source": [
    "sns.displot(data=df_concat[df_concat.companyName.isin(['HomeDepot','Kroger'])], x='Revenue', hue='companyName', kind='kde',common_norm=False)\n",
    "\n",
    "display(f'HomeDepot mean: {df_concat[df_concat.companyName==\"HomeDepot\"].Revenue.mean()}')\n",
    "display(f'Kroger mean: {df_concat[df_concat.companyName==\"Kroger\"].Revenue.mean()}')\n",
    "display(f'HomeDepot sd: {df_concat[df_concat.companyName==\"HomeDepot\"].Revenue.std()}')\n",
    "display(f'Kroger sd: {df_concat[df_concat.companyName==\"Kroger\"].Revenue.std()}')\n",
    "\n",
    "display(stats.ttest_ind(df_concat[df_concat.companyName == 'HomeDepot'].Revenue, df_concat[df_concat.companyName == 'Kroger'].Revenue))"
   ]
  },
  {
   "cell_type": "code",
   "execution_count": null,
   "id": "48030244",
   "metadata": {},
   "outputs": [],
   "source": []
  },
  {
   "cell_type": "code",
   "execution_count": 83,
   "id": "9500e745",
   "metadata": {},
   "outputs": [
    {
     "data": {
      "text/plain": [
       "array(['Walmart', 'Amazon', 'Costco', 'HomeDepot', 'Kroger'], dtype=object)"
      ]
     },
     "execution_count": 83,
     "metadata": {},
     "output_type": "execute_result"
    }
   ],
   "source": [
    "df_concat.companyName.unique()"
   ]
  },
  {
   "cell_type": "code",
   "execution_count": 69,
   "id": "4211f5b4",
   "metadata": {},
   "outputs": [
    {
     "name": "stderr",
     "output_type": "stream",
     "text": [
      "/var/folders/kl/5sjvw0v947l6h9nnnn47l4d00000gn/T/ipykernel_7285/766948117.py:3: FutureWarning: The default value of regex will change from True to False in a future version.\n",
      "  df_concat.NetIncome=df_concat.NetIncome.str.replace('−0.3','0')\n"
     ]
    }
   ],
   "source": [
    "df_concat.NetIncome=df_concat.NetIncome.str.replace('−1,411','−1411')\n",
    "df_concat.NetIncome=df_concat.NetIncome.str.replace('−2,722','−2722')\n",
    "df_concat.NetIncome=df_concat.NetIncome.str.replace('−0.3','0')"
   ]
  },
  {
   "cell_type": "code",
   "execution_count": null,
   "id": "5f6b682d",
   "metadata": {},
   "outputs": [],
   "source": []
  },
  {
   "cell_type": "code",
   "execution_count": 78,
   "id": "cffa8b2e",
   "metadata": {},
   "outputs": [],
   "source": [
    "df_concat['Year']=df_concat['Year'].astype(int)"
   ]
  },
  {
   "cell_type": "code",
   "execution_count": 79,
   "id": "adfd1a76",
   "metadata": {},
   "outputs": [
    {
     "data": {
      "text/plain": [
       "<AxesSubplot:xlabel='Year', ylabel='Revenue'>"
      ]
     },
     "execution_count": 79,
     "metadata": {},
     "output_type": "execute_result"
    },
    {
     "data": {
      "image/png": "[encoded data removed]",
      "text/plain": [
       "<Figure size 432x288 with 1 Axes>"
      ]
     },
     "metadata": {
      "needs_background": "light"
     },
     "output_type": "display_data"
    }
   ],
   "source": [
    "sns.lineplot(data=df_concat,x='Year',y='Revenue',hue='companyName')"
   ]
  },
  {
   "cell_type": "code",
   "execution_count": 80,
   "id": "2b524fda",
   "metadata": {},
   "outputs": [
    {
     "data": {
      "text/plain": [
       "(2005.0, 2022.0)"
      ]
     },
     "execution_count": 80,
     "metadata": {},
     "output_type": "execute_result"
    },
    {
     "data": {
      "image/png": "[encoded data removed]",
      "text/plain": [
       "<Figure size 432x288 with 1 Axes>"
      ]
     },
     "metadata": {
      "needs_background": "light"
     },
     "output_type": "display_data"
    }
   ],
   "source": [
    "sns.lineplot(data=df_concat,x='Year',y='Revenue',hue='companyName')\n",
    "plt.xlim([2005,2022])"
   ]
  },
  {
   "cell_type": "code",
   "execution_count": 81,
   "id": "e3761fe1",
   "metadata": {},
   "outputs": [
    {
     "data": {
      "text/plain": [
       "array([0.481754, 0.605211, 1.187764, 1.651599, 2.907354, 4.591469,\n",
       "       6.15852, 6.353336, 11.506, 16.546, 21.886, 29.447, 41.151, 55.682,\n",
       "       82.794, 124.14, 196.244, 270.767, 327.437, 450.086, 627.643,\n",
       "       837.221, 1075.9, 1291.024, 1608.476, 1994.794, 2333.277, 2681.0,\n",
       "       2740.0, 3056.0, 3526.0, 4430.0, 5377.0, 6295.0, 6592.0, 7955.0,\n",
       "       9054.0, 10267.0, 11231.0, 11284.0, 12731.0, 13381.0, 14370.0,\n",
       "       16389.0, 15699.0, 16999.0, 16022.0, 16363.0, 14694.0, 13643.0,\n",
       "       9862.0, 6670.0, 14881.0, 13510.0, '−0.3', '−6', '−28', '−124',\n",
       "       '−720', '−1,411', '−567', '−149', '35', '588', '359', '190', '476',\n",
       "       '645', '902', '1152', '631', '−39', '274', '−241', '596', '2371',\n",
       "       '3033', '10073', '11588', '21331', '33364', '−2,722', 1063, 1103,\n",
       "       1083, 1283, 1086, 1303, 1462, 1709, 2039, 2058, 2377, 2350, 2679,\n",
       "       3134, 3659, 4002, 5007, 5844, 5001.0, 5838.0, 5761.0, 4395.0,\n",
       "       2260.0, 2661.0, 3338.0, 3883.0, 4535.0, 5385.0, 6345.0, 7009.0,\n",
       "       7957.0, 8630.0, nan, 958, 1115, 1209, 1249, 70, 1116, 602, 1497,\n",
       "       1519, 1728, 1975, 1907, 3110, 1659], dtype=object)"
      ]
     },
     "execution_count": 81,
     "metadata": {},
     "output_type": "execute_result"
    }
   ],
   "source": [
    "df_concat.NetIncome.unique()"
   ]
  },
  {
   "cell_type": "code",
   "execution_count": 74,
   "id": "48b6562b",
   "metadata": {},
   "outputs": [
    {
     "ename": "ValueError",
     "evalue": "could not convert string to float: '−6'",
     "output_type": "error",
     "traceback": [
      "\u001b[0;31m---------------------------------------------------------------------------\u001b[0m",
      "\u001b[0;31mValueError\u001b[0m                                Traceback (most recent call last)",
      "\u001b[0;32m/var/folders/kl/5sjvw0v947l6h9nnnn47l4d00000gn/T/ipykernel_7285/3923254170.py\u001b[0m in \u001b[0;36m<module>\u001b[0;34m\u001b[0m\n\u001b[0;32m----> 1\u001b[0;31m \u001b[0mdf_concat\u001b[0m\u001b[0;34m[\u001b[0m\u001b[0;34m'NetIncome'\u001b[0m\u001b[0;34m]\u001b[0m\u001b[0;34m=\u001b[0m\u001b[0mdf_concat\u001b[0m\u001b[0;34m[\u001b[0m\u001b[0;34m'NetIncome'\u001b[0m\u001b[0;34m]\u001b[0m\u001b[0;34m.\u001b[0m\u001b[0mastype\u001b[0m\u001b[0;34m(\u001b[0m\u001b[0mfloat\u001b[0m\u001b[0;34m)\u001b[0m\u001b[0;34m\u001b[0m\u001b[0;34m\u001b[0m\u001b[0m\n\u001b[0m",
      "\u001b[0;32m~/opt/anaconda3/lib/python3.9/site-packages/pandas/core/generic.py\u001b[0m in \u001b[0;36mastype\u001b[0;34m(self, dtype, copy, errors)\u001b[0m\n\u001b[1;32m   5813\u001b[0m         \u001b[0;32melse\u001b[0m\u001b[0;34m:\u001b[0m\u001b[0;34m\u001b[0m\u001b[0;34m\u001b[0m\u001b[0m\n\u001b[1;32m   5814\u001b[0m             \u001b[0;31m# else, only a single dtype is given\u001b[0m\u001b[0;34m\u001b[0m\u001b[0;34m\u001b[0m\u001b[0m\n\u001b[0;32m-> 5815\u001b[0;31m             \u001b[0mnew_data\u001b[0m \u001b[0;34m=\u001b[0m \u001b[0mself\u001b[0m\u001b[0;34m.\u001b[0m\u001b[0m_mgr\u001b[0m\u001b[0;34m.\u001b[0m\u001b[0mastype\u001b[0m\u001b[0;34m(\u001b[0m\u001b[0mdtype\u001b[0m\u001b[0;34m=\u001b[0m\u001b[0mdtype\u001b[0m\u001b[0;34m,\u001b[0m \u001b[0mcopy\u001b[0m\u001b[0;34m=\u001b[0m\u001b[0mcopy\u001b[0m\u001b[0;34m,\u001b[0m \u001b[0merrors\u001b[0m\u001b[0;34m=\u001b[0m\u001b[0merrors\u001b[0m\u001b[0;34m)\u001b[0m\u001b[0;34m\u001b[0m\u001b[0;34m\u001b[0m\u001b[0m\n\u001b[0m\u001b[1;32m   5816\u001b[0m             \u001b[0;32mreturn\u001b[0m \u001b[0mself\u001b[0m\u001b[0;34m.\u001b[0m\u001b[0m_constructor\u001b[0m\u001b[0;34m(\u001b[0m\u001b[0mnew_data\u001b[0m\u001b[0;34m)\u001b[0m\u001b[0;34m.\u001b[0m\u001b[0m__finalize__\u001b[0m\u001b[0;34m(\u001b[0m\u001b[0mself\u001b[0m\u001b[0;34m,\u001b[0m \u001b[0mmethod\u001b[0m\u001b[0;34m=\u001b[0m\u001b[0;34m\"astype\"\u001b[0m\u001b[0;34m)\u001b[0m\u001b[0;34m\u001b[0m\u001b[0;34m\u001b[0m\u001b[0m\n\u001b[1;32m   5817\u001b[0m \u001b[0;34m\u001b[0m\u001b[0m\n",
      "\u001b[0;32m~/opt/anaconda3/lib/python3.9/site-packages/pandas/core/internals/managers.py\u001b[0m in \u001b[0;36mastype\u001b[0;34m(self, dtype, copy, errors)\u001b[0m\n\u001b[1;32m    416\u001b[0m \u001b[0;34m\u001b[0m\u001b[0m\n\u001b[1;32m    417\u001b[0m     \u001b[0;32mdef\u001b[0m \u001b[0mastype\u001b[0m\u001b[0;34m(\u001b[0m\u001b[0mself\u001b[0m\u001b[0;34m:\u001b[0m \u001b[0mT\u001b[0m\u001b[0;34m,\u001b[0m \u001b[0mdtype\u001b[0m\u001b[0;34m,\u001b[0m \u001b[0mcopy\u001b[0m\u001b[0;34m:\u001b[0m \u001b[0mbool\u001b[0m \u001b[0;34m=\u001b[0m \u001b[0;32mFalse\u001b[0m\u001b[0;34m,\u001b[0m \u001b[0merrors\u001b[0m\u001b[0;34m:\u001b[0m \u001b[0mstr\u001b[0m \u001b[0;34m=\u001b[0m \u001b[0;34m\"raise\"\u001b[0m\u001b[0;34m)\u001b[0m \u001b[0;34m->\u001b[0m \u001b[0mT\u001b[0m\u001b[0;34m:\u001b[0m\u001b[0;34m\u001b[0m\u001b[0;34m\u001b[0m\u001b[0m\n\u001b[0;32m--> 418\u001b[0;31m         \u001b[0;32mreturn\u001b[0m \u001b[0mself\u001b[0m\u001b[0;34m.\u001b[0m\u001b[0mapply\u001b[0m\u001b[0;34m(\u001b[0m\u001b[0;34m\"astype\"\u001b[0m\u001b[0;34m,\u001b[0m \u001b[0mdtype\u001b[0m\u001b[0;34m=\u001b[0m\u001b[0mdtype\u001b[0m\u001b[0;34m,\u001b[0m \u001b[0mcopy\u001b[0m\u001b[0;34m=\u001b[0m\u001b[0mcopy\u001b[0m\u001b[0;34m,\u001b[0m \u001b[0merrors\u001b[0m\u001b[0;34m=\u001b[0m\u001b[0merrors\u001b[0m\u001b[0;34m)\u001b[0m\u001b[0;34m\u001b[0m\u001b[0;34m\u001b[0m\u001b[0m\n\u001b[0m\u001b[1;32m    419\u001b[0m \u001b[0;34m\u001b[0m\u001b[0m\n\u001b[1;32m    420\u001b[0m     def convert(\n",
      "\u001b[0;32m~/opt/anaconda3/lib/python3.9/site-packages/pandas/core/internals/managers.py\u001b[0m in \u001b[0;36mapply\u001b[0;34m(self, f, align_keys, ignore_failures, **kwargs)\u001b[0m\n\u001b[1;32m    325\u001b[0m                     \u001b[0mapplied\u001b[0m \u001b[0;34m=\u001b[0m \u001b[0mb\u001b[0m\u001b[0;34m.\u001b[0m\u001b[0mapply\u001b[0m\u001b[0;34m(\u001b[0m\u001b[0mf\u001b[0m\u001b[0;34m,\u001b[0m \u001b[0;34m**\u001b[0m\u001b[0mkwargs\u001b[0m\u001b[0;34m)\u001b[0m\u001b[0;34m\u001b[0m\u001b[0;34m\u001b[0m\u001b[0m\n\u001b[1;32m    326\u001b[0m                 \u001b[0;32melse\u001b[0m\u001b[0;34m:\u001b[0m\u001b[0;34m\u001b[0m\u001b[0;34m\u001b[0m\u001b[0m\n\u001b[0;32m--> 327\u001b[0;31m                     \u001b[0mapplied\u001b[0m \u001b[0;34m=\u001b[0m \u001b[0mgetattr\u001b[0m\u001b[0;34m(\u001b[0m\u001b[0mb\u001b[0m\u001b[0;34m,\u001b[0m \u001b[0mf\u001b[0m\u001b[0;34m)\u001b[0m\u001b[0;34m(\u001b[0m\u001b[0;34m**\u001b[0m\u001b[0mkwargs\u001b[0m\u001b[0;34m)\u001b[0m\u001b[0;34m\u001b[0m\u001b[0;34m\u001b[0m\u001b[0m\n\u001b[0m\u001b[1;32m    328\u001b[0m             \u001b[0;32mexcept\u001b[0m \u001b[0;34m(\u001b[0m\u001b[0mTypeError\u001b[0m\u001b[0;34m,\u001b[0m \u001b[0mNotImplementedError\u001b[0m\u001b[0;34m)\u001b[0m\u001b[0;34m:\u001b[0m\u001b[0;34m\u001b[0m\u001b[0;34m\u001b[0m\u001b[0m\n\u001b[1;32m    329\u001b[0m                 \u001b[0;32mif\u001b[0m \u001b[0;32mnot\u001b[0m \u001b[0mignore_failures\u001b[0m\u001b[0;34m:\u001b[0m\u001b[0;34m\u001b[0m\u001b[0;34m\u001b[0m\u001b[0m\n",
      "\u001b[0;32m~/opt/anaconda3/lib/python3.9/site-packages/pandas/core/internals/blocks.py\u001b[0m in \u001b[0;36mastype\u001b[0;34m(self, dtype, copy, errors)\u001b[0m\n\u001b[1;32m    589\u001b[0m         \u001b[0mvalues\u001b[0m \u001b[0;34m=\u001b[0m \u001b[0mself\u001b[0m\u001b[0;34m.\u001b[0m\u001b[0mvalues\u001b[0m\u001b[0;34m\u001b[0m\u001b[0;34m\u001b[0m\u001b[0m\n\u001b[1;32m    590\u001b[0m \u001b[0;34m\u001b[0m\u001b[0m\n\u001b[0;32m--> 591\u001b[0;31m         \u001b[0mnew_values\u001b[0m \u001b[0;34m=\u001b[0m \u001b[0mastype_array_safe\u001b[0m\u001b[0;34m(\u001b[0m\u001b[0mvalues\u001b[0m\u001b[0;34m,\u001b[0m \u001b[0mdtype\u001b[0m\u001b[0;34m,\u001b[0m \u001b[0mcopy\u001b[0m\u001b[0;34m=\u001b[0m\u001b[0mcopy\u001b[0m\u001b[0;34m,\u001b[0m \u001b[0merrors\u001b[0m\u001b[0;34m=\u001b[0m\u001b[0merrors\u001b[0m\u001b[0;34m)\u001b[0m\u001b[0;34m\u001b[0m\u001b[0;34m\u001b[0m\u001b[0m\n\u001b[0m\u001b[1;32m    592\u001b[0m \u001b[0;34m\u001b[0m\u001b[0m\n\u001b[1;32m    593\u001b[0m         \u001b[0mnew_values\u001b[0m \u001b[0;34m=\u001b[0m \u001b[0mmaybe_coerce_values\u001b[0m\u001b[0;34m(\u001b[0m\u001b[0mnew_values\u001b[0m\u001b[0;34m)\u001b[0m\u001b[0;34m\u001b[0m\u001b[0;34m\u001b[0m\u001b[0m\n",
      "\u001b[0;32m~/opt/anaconda3/lib/python3.9/site-packages/pandas/core/dtypes/cast.py\u001b[0m in \u001b[0;36mastype_array_safe\u001b[0;34m(values, dtype, copy, errors)\u001b[0m\n\u001b[1;32m   1307\u001b[0m \u001b[0;34m\u001b[0m\u001b[0m\n\u001b[1;32m   1308\u001b[0m     \u001b[0;32mtry\u001b[0m\u001b[0;34m:\u001b[0m\u001b[0;34m\u001b[0m\u001b[0;34m\u001b[0m\u001b[0m\n\u001b[0;32m-> 1309\u001b[0;31m         \u001b[0mnew_values\u001b[0m \u001b[0;34m=\u001b[0m \u001b[0mastype_array\u001b[0m\u001b[0;34m(\u001b[0m\u001b[0mvalues\u001b[0m\u001b[0;34m,\u001b[0m \u001b[0mdtype\u001b[0m\u001b[0;34m,\u001b[0m \u001b[0mcopy\u001b[0m\u001b[0;34m=\u001b[0m\u001b[0mcopy\u001b[0m\u001b[0;34m)\u001b[0m\u001b[0;34m\u001b[0m\u001b[0;34m\u001b[0m\u001b[0m\n\u001b[0m\u001b[1;32m   1310\u001b[0m     \u001b[0;32mexcept\u001b[0m \u001b[0;34m(\u001b[0m\u001b[0mValueError\u001b[0m\u001b[0;34m,\u001b[0m \u001b[0mTypeError\u001b[0m\u001b[0;34m)\u001b[0m\u001b[0;34m:\u001b[0m\u001b[0;34m\u001b[0m\u001b[0;34m\u001b[0m\u001b[0m\n\u001b[1;32m   1311\u001b[0m         \u001b[0;31m# e.g. astype_nansafe can fail on object-dtype of strings\u001b[0m\u001b[0;34m\u001b[0m\u001b[0;34m\u001b[0m\u001b[0m\n",
      "\u001b[0;32m~/opt/anaconda3/lib/python3.9/site-packages/pandas/core/dtypes/cast.py\u001b[0m in \u001b[0;36mastype_array\u001b[0;34m(values, dtype, copy)\u001b[0m\n\u001b[1;32m   1255\u001b[0m \u001b[0;34m\u001b[0m\u001b[0m\n\u001b[1;32m   1256\u001b[0m     \u001b[0;32melse\u001b[0m\u001b[0;34m:\u001b[0m\u001b[0;34m\u001b[0m\u001b[0;34m\u001b[0m\u001b[0m\n\u001b[0;32m-> 1257\u001b[0;31m         \u001b[0mvalues\u001b[0m \u001b[0;34m=\u001b[0m \u001b[0mastype_nansafe\u001b[0m\u001b[0;34m(\u001b[0m\u001b[0mvalues\u001b[0m\u001b[0;34m,\u001b[0m \u001b[0mdtype\u001b[0m\u001b[0;34m,\u001b[0m \u001b[0mcopy\u001b[0m\u001b[0;34m=\u001b[0m\u001b[0mcopy\u001b[0m\u001b[0;34m)\u001b[0m\u001b[0;34m\u001b[0m\u001b[0;34m\u001b[0m\u001b[0m\n\u001b[0m\u001b[1;32m   1258\u001b[0m \u001b[0;34m\u001b[0m\u001b[0m\n\u001b[1;32m   1259\u001b[0m     \u001b[0;31m# in pandas we don't store numpy str dtypes, so convert to object\u001b[0m\u001b[0;34m\u001b[0m\u001b[0;34m\u001b[0m\u001b[0m\n",
      "\u001b[0;32m~/opt/anaconda3/lib/python3.9/site-packages/pandas/core/dtypes/cast.py\u001b[0m in \u001b[0;36mastype_nansafe\u001b[0;34m(arr, dtype, copy, skipna)\u001b[0m\n\u001b[1;32m   1199\u001b[0m     \u001b[0;32mif\u001b[0m \u001b[0mcopy\u001b[0m \u001b[0;32mor\u001b[0m \u001b[0mis_object_dtype\u001b[0m\u001b[0;34m(\u001b[0m\u001b[0marr\u001b[0m\u001b[0;34m.\u001b[0m\u001b[0mdtype\u001b[0m\u001b[0;34m)\u001b[0m \u001b[0;32mor\u001b[0m \u001b[0mis_object_dtype\u001b[0m\u001b[0;34m(\u001b[0m\u001b[0mdtype\u001b[0m\u001b[0;34m)\u001b[0m\u001b[0;34m:\u001b[0m\u001b[0;34m\u001b[0m\u001b[0;34m\u001b[0m\u001b[0m\n\u001b[1;32m   1200\u001b[0m         \u001b[0;31m# Explicit copy, or required since NumPy can't view from / to object.\u001b[0m\u001b[0;34m\u001b[0m\u001b[0;34m\u001b[0m\u001b[0m\n\u001b[0;32m-> 1201\u001b[0;31m         \u001b[0;32mreturn\u001b[0m \u001b[0marr\u001b[0m\u001b[0;34m.\u001b[0m\u001b[0mastype\u001b[0m\u001b[0;34m(\u001b[0m\u001b[0mdtype\u001b[0m\u001b[0;34m,\u001b[0m \u001b[0mcopy\u001b[0m\u001b[0;34m=\u001b[0m\u001b[0;32mTrue\u001b[0m\u001b[0;34m)\u001b[0m\u001b[0;34m\u001b[0m\u001b[0;34m\u001b[0m\u001b[0m\n\u001b[0m\u001b[1;32m   1202\u001b[0m \u001b[0;34m\u001b[0m\u001b[0m\n\u001b[1;32m   1203\u001b[0m     \u001b[0;32mreturn\u001b[0m \u001b[0marr\u001b[0m\u001b[0;34m.\u001b[0m\u001b[0mastype\u001b[0m\u001b[0;34m(\u001b[0m\u001b[0mdtype\u001b[0m\u001b[0;34m,\u001b[0m \u001b[0mcopy\u001b[0m\u001b[0;34m=\u001b[0m\u001b[0mcopy\u001b[0m\u001b[0;34m)\u001b[0m\u001b[0;34m\u001b[0m\u001b[0;34m\u001b[0m\u001b[0m\n",
      "\u001b[0;31mValueError\u001b[0m: could not convert string to float: '−6'"
     ]
    }
   ],
   "source": [
    "df_concat['NetIncome']=df_concat['NetIncome'].astype(float)"
   ]
  },
  {
   "cell_type": "code",
   "execution_count": null,
   "id": "a8ed489f",
   "metadata": {},
   "outputs": [],
   "source": [
    "sns.lineplot(data=df_concat,x='Year',y='NetIncome',hue='companyName')\n"
   ]
  },
  {
   "cell_type": "code",
   "execution_count": null,
   "id": "93927dea",
   "metadata": {},
   "outputs": [],
   "source": []
  }
 ],
 "metadata": {
  "kernelspec": {
   "display_name": "Python 3 (ipykernel)",
   "language": "python",
   "name": "python3"
  },
  "language_info": {
   "codemirror_mode": {
    "name": "ipython",
    "version": 3
   },
   "file_extension": ".py",
   "mimetype": "text/x-python",
   "name": "python",
   "nbconvert_exporter": "python",
   "pygments_lexer": "ipython3",
   "version": "3.9.7"
  }
 },
 "nbformat": 4,
 "nbformat_minor": 5
}
